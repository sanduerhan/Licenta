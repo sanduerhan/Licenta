{
  "cells": [
    {
      "cell_type": "markdown",
      "metadata": {
        "id": "view-in-github",
        "colab_type": "text"
      },
      "source": [
        "<a href=\"https://colab.research.google.com/github/sanduerhan/Licenta/blob/main/code.ipynb\" target=\"_parent\"><img src=\"https://colab.research.google.com/assets/colab-badge.svg\" alt=\"Open In Colab\"/></a>"
      ]
    },
    {
      "cell_type": "markdown",
      "source": [
        ""
      ],
      "metadata": {
        "id": "OH7f6H-lQfOA"
      }
    },
    {
      "cell_type": "markdown",
      "source": [
        "# Dataset Import"
      ],
      "metadata": {
        "id": "EOmssdxm3o5N"
      }
    },
    {
      "cell_type": "code",
      "source": [
        "import nltk\n",
        "nltk.download('punkt')\n",
        "nltk.download('averaged_perceptron_tagger')\n",
        "nltk.download('wordnet')\n",
        "nltk.download('stopwords')"
      ],
      "metadata": {
        "id": "RI7LFohhh6oy",
        "colab": {
          "base_uri": "https://localhost:8080/"
        },
        "outputId": "e2b7a78e-5a2e-4951-e713-8c7de09a4ae5"
      },
      "execution_count": 2,
      "outputs": [
        {
          "output_type": "stream",
          "name": "stdout",
          "text": [
            "[nltk_data] Downloading package punkt to /root/nltk_data...\n",
            "[nltk_data]   Unzipping tokenizers/punkt.zip.\n",
            "[nltk_data] Downloading package averaged_perceptron_tagger to\n",
            "[nltk_data]     /root/nltk_data...\n",
            "[nltk_data]   Unzipping taggers/averaged_perceptron_tagger.zip.\n",
            "[nltk_data] Downloading package wordnet to /root/nltk_data...\n",
            "[nltk_data]   Unzipping corpora/wordnet.zip.\n",
            "[nltk_data] Downloading package stopwords to /root/nltk_data...\n",
            "[nltk_data]   Unzipping corpora/stopwords.zip.\n"
          ]
        },
        {
          "output_type": "execute_result",
          "data": {
            "text/plain": [
              "True"
            ]
          },
          "metadata": {},
          "execution_count": 2
        }
      ]
    },
    {
      "cell_type": "code",
      "source": [
        "!pip install --upgrade numpy"
      ],
      "metadata": {
        "colab": {
          "base_uri": "https://localhost:8080/"
        },
        "id": "BHx29AkXpS9C",
        "outputId": "707bfaa3-9537-408f-fd9a-0f2ea6d38235"
      },
      "execution_count": 3,
      "outputs": [
        {
          "output_type": "stream",
          "name": "stdout",
          "text": [
            "Looking in indexes: https://pypi.org/simple, https://us-python.pkg.dev/colab-wheels/public/simple/\n",
            "Requirement already satisfied: numpy in /usr/local/lib/python3.7/dist-packages (1.21.6)\n"
          ]
        }
      ]
    },
    {
      "cell_type": "code",
      "execution_count": 4,
      "metadata": {
        "collapsed": true,
        "id": "ZX3Ibl5BQUFC"
      },
      "outputs": [],
      "source": [
        "import pandas as pd\n",
        "import numpy as np\n",
        "import seaborn as sns\n",
        "from sklearn.metrics import confusion_matrix\n",
        "from sklearn.feature_extraction.text import TfidfVectorizer\n",
        "import openpyxl\n",
        "from nltk.corpus import stopwords, words, wordnet\n",
        "from nltk.stem import WordNetLemmatizer\n",
        "from nltk.tokenize import word_tokenize\n",
        "from nltk.tokenize import sent_tokenize, word_tokenize\n",
        "from gensim.models import Word2Vec\n",
        "import gensim\n",
        "import re, string\n",
        "from string import punctuation, digits\n",
        "\n",
        "from imblearn.over_sampling import SMOTE\n",
        "from imblearn.over_sampling import RandomOverSampler\n",
        "\n",
        "import matplotlib.pyplot as plt\n",
        "from wordcloud import WordCloud\n",
        "\n",
        "from sklearn.feature_extraction.text import CountVectorizer\n",
        "from sklearn.naive_bayes import MultinomialNB\n",
        "from sklearn import metrics\n",
        "from sklearn.model_selection import train_test_split\n",
        "from sklearn.ensemble import AdaBoostClassifier\n",
        "from sklearn.preprocessing import LabelEncoder\n",
        "from sklearn.metrics import accuracy_score\n",
        "from sklearn.datasets import make_classification\n",
        "from sklearn.model_selection import cross_val_score\n",
        "from sklearn.model_selection import RepeatedStratifiedKFold\n",
        "from sklearn.linear_model import LogisticRegression\n",
        "from sklearn.ensemble import RandomForestClassifier\n",
        "from sklearn.svm import LinearSVC\n",
        "\n",
        "import tensorflow as tf\n",
        "from tensorflow import keras\n",
        "from tensorflow.keras.preprocessing.text import one_hot,Tokenizer\n",
        "from tensorflow.keras.preprocessing.sequence import pad_sequences\n",
        "from keras.initializers import Constant\n",
        "from tensorflow.keras import layers\n",
        "from tensorflow.keras.layers import ReLU\n",
        "from tensorflow.keras.layers import Dropout\n",
        "from tensorflow.keras.models import Sequential\n",
        "from tensorflow.keras.layers import Dense , Flatten ,Embedding,Input,LSTM\n",
        "from tensorflow.keras.models import Model\n",
        "import tensorflow.keras.backend as K\n",
        "\n",
        "col_list = [\"Column2\", \"Column3\"]\n",
        "dataset = pd.read_excel(\"Training.data.xlsx\", usecols=col_list)\n",
        "testset = pd.read_excel(\"Dev.xlsx\", usecols=col_list)\n",
        "\n",
        "\n",
        "def add_category_id(dataset):\n",
        "  dataset['category_id'] = dataset['Column3'].factorize()[0]\n",
        "  category_id_dataset = dataset[['Column3', 'category_id']].drop_duplicates()\n",
        "\n",
        "  category_to_id = dict(category_id_dataset.values)\n",
        "  id_to_category = dict(category_id_dataset[['category_id', 'Column3']].values)\n",
        "  return dataset,category_to_id, id_to_category\n",
        "\n",
        "dataset, category_to_id_train, id_to_category_train = add_category_id(dataset)\n",
        "testset, category_to_id_test, id_to_category_test = add_category_id(testset)\n",
        "dataset = dataset.sample(frac = 1)\n",
        "testset = testset.sample(frac = 1)\n",
        "train_x = dataset[\"Column2\"]\n",
        "train_y = dataset[\"category_id\"]\n",
        "test_x = testset[\"Column2\"]\n",
        "test_y = testset[\"category_id\"]\n"
      ]
    },
    {
      "cell_type": "code",
      "source": [
        "print(dataset[\"Column2\"].head)"
      ],
      "metadata": {
        "colab": {
          "base_uri": "https://localhost:8080/"
        },
        "id": "Yy4EFKrVeZaq",
        "outputId": "8bfea871-4be5-4328-a0a7-4c3b14f4e20c"
      },
      "execution_count": 60,
      "outputs": [
        {
          "output_type": "stream",
          "name": "stdout",
          "text": [
            "<bound method NDFrame.head of 894     dad got bottle irish cream yesterday downed bu...\n",
            "6817    ¿ interest ever look people realise one really...\n",
            "5629    never thought would starting become depressed ...\n",
            "4777    running absolutely terrified less minutes deca...\n",
            "2160    lonely know belongs need towrite little first ...\n",
            "                              ...                        \n",
            "271     think gonna make already spent lot work today ...\n",
            "7719    hour already slipped back self harming multipl...\n",
            "4312    ive never spent another friend even give fuck ...\n",
            "1690    dental care tips narcoleptic depressed two big...\n",
            "3646    depression ripping relationship apart know any...\n",
            "Name: Column2, Length: 8068, dtype: object>\n"
          ]
        }
      ]
    },
    {
      "cell_type": "code",
      "source": [
        "train_tweets = dataset['Column2'].tolist()\n",
        "test_tweets = testset['Column2'].tolist()\n",
        "def keep_uniques(array, df):\n",
        "    dels=[]\n",
        "    for i in array:\n",
        "        if array.count(i)>1:\n",
        "            dels.append(i)\n",
        "    dels=list(set(dels))\n",
        "    for i in dels:\n",
        "        df.drop( df[ df['Column2'] == i ].index, inplace=True)\n",
        "    return df\n",
        "\n",
        "dataset = keep_uniques(train_tweets, dataset)\n",
        "testset = keep_uniques(test_tweets, testset)\n",
        "\n",
        "print(len(testset))"
      ],
      "metadata": {
        "colab": {
          "base_uri": "https://localhost:8080/"
        },
        "id": "Z_jdBb8Z_Pus",
        "outputId": "4bdd86af-ceb3-45a2-bd83-5498c1b58d84"
      },
      "execution_count": null,
      "outputs": [
        {
          "output_type": "stream",
          "name": "stdout",
          "text": [
            "4062\n"
          ]
        }
      ]
    },
    {
      "cell_type": "code",
      "source": [
        "fig = plt.figure(figsize=(8,6))\n",
        "colors = ['darkblue','darkblue','darkblue']\n",
        "dataset.groupby('Column3').Column2.count().sort_values().plot.barh(\n",
        "    ylim=0, color=colors, title= 'NUMBER OF TWEETS IN EACH CATEGORY\\n')\n",
        "plt.xlabel('Number of ocurrences', fontsize = 10);"
      ],
      "metadata": {
        "colab": {
          "base_uri": "https://localhost:8080/",
          "height": 419
        },
        "id": "PQ4_yB2Cdnad",
        "outputId": "baa39b53-9658-441f-ed10-601c3bc63c62"
      },
      "execution_count": 5,
      "outputs": [
        {
          "output_type": "display_data",
          "data": {
            "text/plain": [
              "<Figure size 576x432 with 1 Axes>"
            ],
            "image/png": "[encoded data removed]"
          },
          "metadata": {
            "needs_background": "light"
          }
        }
      ]
    },
    {
      "cell_type": "markdown",
      "source": [
        "# PreProcessing"
      ],
      "metadata": {
        "id": "xHx-Yr8O3pvF"
      }
    },
    {
      "cell_type": "code",
      "source": [
        "!pip install tweet-preprocessor\n",
        "import preprocessor as p\n",
        "\n",
        "def preprocess_tweets(text):\n",
        "  return p.clean(text)\n",
        "\n",
        "print(preprocess_tweets(train_x[0]))"
      ],
      "metadata": {
        "colab": {
          "base_uri": "https://localhost:8080/"
        },
        "id": "i5ORHpDKp2eO",
        "outputId": "41d86ffc-f5d5-4c32-d34c-b0a173cd4a31"
      },
      "execution_count": 5,
      "outputs": [
        {
          "output_type": "stream",
          "name": "stdout",
          "text": [
            "Looking in indexes: https://pypi.org/simple, https://us-python.pkg.dev/colab-wheels/public/simple/\n",
            "Collecting tweet-preprocessor\n",
            "  Downloading tweet_preprocessor-0.6.0-py3-none-any.whl (27 kB)\n",
            "Installing collected packages: tweet-preprocessor\n",
            "Successfully installed tweet-preprocessor-0.6.0\n",
            "Waiting for my mind to have a breakdown once the New Year feeling isnt there anymore : I dont know about anyone else, but Im a little bit worried that Ill go back to being depressed in a few days time or something. Last year, I tried not to have any breakdowns for the start of . A mere days later, I broke down crying. I wasnt the same for that entire year. Up until December, where I was ok that month. Now I just wait... its a weird way to act and feel, but it feels a bit normal.\n"
          ]
        }
      ]
    },
    {
      "cell_type": "code",
      "execution_count": null,
      "outputs": [],
      "source": [
        "# cleaning the text : deleting the emojis, the existing emails, the punctuation, the present digits,\n",
        "# the hyperlinks and the stopwords (a,the,is, etc)\n",
        "\n",
        "def delete_emoji(text):\n",
        "    emoji_pattern = re.compile(\"[\"\n",
        "                               u\"\\U0001F600-\\U0001F64F\"  # emoticons\n",
        "                               u\"\\U0001F300-\\U0001F5FF\"  # symbols & pictographs\n",
        "                               u\"\\U0001F680-\\U0001F6FF\"  # transport & map symbols\n",
        "                               u\"\\U0001F1E0-\\U0001F1FF\"  # flags (iOS)\n",
        "                               u\"\\U00002500-\\U00002BEF\"  # chinese char\n",
        "                               u\"\\U00002702-\\U000027B0\"\n",
        "                               u\"\\U00002702-\\U000027B0\"\n",
        "                               u\"\\U000024C2-\\U0001F251\"\n",
        "                               u\"\\U0001f926-\\U0001f937\"\n",
        "                               u\"\\U00010000-\\U0010ffff\"\n",
        "                               u\"\\u2640-\\u2642\"\n",
        "                               u\"\\u2600-\\u2B55\"\n",
        "                               u\"\\u200d\"\n",
        "                               u\"\\u23cf\"\n",
        "                               u\"\\u23e9\"\n",
        "                               u\"\\u231a\"\n",
        "                               u\"\\ufe0f\"  # dingbats\n",
        "                               u\"\\u3030\"\n",
        "                               \"]+\", re.UNICODE)\n",
        "    return emoji_pattern.sub(r'', text)  # no emoji\n",
        "\n",
        "\n",
        "def delete_digits(text):\n",
        "    text = text.lower()\n",
        "    clean = text.translate(str.maketrans('', '', digits))\n",
        "    return clean\n",
        "\n",
        "\n",
        "def delete_punctuation(text):\n",
        "    clean = text.translate(str.maketrans('', '', punctuation + '’“”'))\n",
        "    return clean\n",
        "\n",
        "\n",
        "stop = set(stopwords.words('english'))\n",
        "stop.add('gtpoplt')\n",
        "stop.add('new')\n",
        "stop.add('year')\n",
        "stop.add('eve')\n",
        "stop.add('years')\n",
        "stop.add('ti')\n",
        "stop.add('ame')\n",
        "stop.add('folks')\n",
        "punct = list(string.punctuation)\n",
        "stop.update(punct)\n",
        "\n",
        "\n",
        "def remove_stopwords(text):\n",
        "    final_text = []\n",
        "    for i in text.split():\n",
        "        if i.strip().lower() not in stop:\n",
        "            final_text.append(i.strip())\n",
        "    return \" \".join(final_text)\n",
        "\n",
        "\n",
        "def remove_hyperlinks(text):\n",
        "    for word in text:\n",
        "        if re.match(r'^http', word):\n",
        "            text.remove(word)\n",
        "    return \" \".join(text)\n",
        "\n",
        "def remove_emails(text):\n",
        "    text = text.split()\n",
        "    for i in text:\n",
        "        if '@' in i.strip().lower():\n",
        "            text.remove(i)\n",
        "    return \" \".join(text)\n",
        "\n",
        "contraction_dict = {\"youre\":\"you are\",\"im\": \"i am\",\"wouldnt\": \"would not\",\"itll\": \"it will\",\"wasnt\": \"was not\",\"dont\": \"do not\",\"ill\": \"i will\",\"isnt\": \"is not\",\"cant\": \"cannot\",\"arent\": \"are not\",\"ain't\": \"is not\", \"aren't\": \"are not\",\"can't\": \"cannot\", \"'cause\": \"because\", \"could've\": \"could have\", \"couldn't\": \"could not\", \"didn't\": \"did not\",  \"doesn't\": \"does not\", \"don't\": \"do not\", \"hadn't\": \"had not\", \"hasn't\": \"has not\", \"haven't\": \"have not\", \"he'd\": \"he would\",\"he'll\": \"he will\", \"he's\": \"he is\", \"how'd\": \"how did\", \"how'd'y\": \"how do you\", \"how'll\": \"how will\", \"how's\": \"how is\",  \"I'd\": \"I would\", \"I'd've\": \"I would have\", \"I'll\": \"I will\", \"I'll've\": \"I will have\",\"I'm\": \"I am\", \"I've\": \"I have\", \"i'd\": \"i would\", \"i'd've\": \"i would have\", \"i'll\": \"i will\",  \"i'll've\": \"i will have\",\"i'm\": \"i am\", \"i've\": \"i have\", \"isn't\": \"is not\", \"it'd\": \"it would\", \"it'd've\": \"it would have\", \"it'll\": \"it will\", \"it'll've\": \"it will have\",\"it's\": \"it is\", \"let's\": \"let us\", \"ma'am\": \"madam\", \"mayn't\": \"may not\", \"might've\": \"might have\",\"mightn't\": \"might not\",\"mightn't've\": \"might not have\", \"must've\": \"must have\", \"mustn't\": \"must not\", \"mustn't've\": \"must not have\", \"needn't\": \"need not\", \"needn't've\": \"need not have\",\"o'clock\": \"of the clock\", \"oughtn't\": \"ought not\", \"oughtn't've\": \"ought not have\", \"shan't\": \"shall not\", \"sha'n't\": \"shall not\", \"shan't've\": \"shall not have\", \"she'd\": \"she would\", \"she'd've\": \"she would have\", \"she'll\": \"she will\", \"she'll've\": \"she will have\", \"she's\": \"she is\", \"should've\": \"should have\", \"shouldn't\": \"should not\", \"shouldn't've\": \"should not have\", \"so've\": \"so have\",\"so's\": \"so as\", \"this's\": \"this is\",\"that'd\": \"that would\", \"that'd've\": \"that would have\", \"that's\": \"that is\", \"there'd\": \"there would\", \"there'd've\": \"there would have\", \"there's\": \"there is\", \"here's\": \"here is\",\"they'd\": \"they would\", \"they'd've\": \"they would have\", \"they'll\": \"they will\", \"they'll've\": \"they will have\", \"they're\": \"they are\", \"they've\": \"they have\", \"to've\": \"to have\", \"wasn't\": \"was not\", \"we'd\": \"we would\", \"we'd've\": \"we would have\", \"we'll\": \"we will\", \"we'll've\": \"we will have\", \"we're\": \"we are\", \"we've\": \"we have\", \"weren't\": \"were not\", \"what'll\": \"what will\", \"what'll've\": \"what will have\", \"what're\": \"what are\",  \"what's\": \"what is\", \"what've\": \"what have\", \"when's\": \"when is\", \"when've\": \"when have\", \"where'd\": \"where did\", \"where's\": \"where is\", \"where've\": \"where have\", \"who'll\": \"who will\", \"who'll've\": \"who will have\", \"who's\": \"who is\", \"who've\": \"who have\", \"why's\": \"why is\", \"why've\": \"why have\", \"will've\": \"will have\", \"won't\": \"will not\", \"won't've\": \"will not have\", \"would've\": \"would have\", \"wouldn't\": \"would not\", \"wouldn't've\": \"would not have\", \"y'all\": \"you all\", \"y'all'd\": \"you all would\",\"y'all'd've\": \"you all would have\",\"y'all're\": \"you all are\",\"y'all've\": \"you all have\",\"you'd\": \"you would\", \"you'd've\": \"you would have\", \"you'll\": \"you will\", \"you'll've\": \"you will have\", \"you're\": \"you are\", \"you've\": \"you have\"}\n",
        "def _get_contractions(contraction_dict):\n",
        "    contraction_re = re.compile('(%s)' % '|'.join(contraction_dict.keys()))\n",
        "    return contraction_dict, contraction_re\n",
        "contractions, contractions_re = _get_contractions(contraction_dict)\n",
        "def replace_contractions(text):\n",
        "    def replace(match):\n",
        "        return contractions[match.group(0)]\n",
        "    return contractions_re.sub(replace, text)\n",
        "\n",
        "# def denoise_text(text):\n",
        "#     text = replace_contractions(text)\n",
        "#     text = remove_words(text)\n",
        "#     text = remove_emails(text)\n",
        "#     text = delete_punctuation(text)\n",
        "#     text = delete_emoji(text)\n",
        "#     text = delete_digits(text)\n",
        "#     text = remove_stopwords(text)\n",
        "#     text = text.split()\n",
        "#     text = remove_hyperlinks(text)\n",
        "#     return text\n",
        "\n",
        "\n",
        "\n",
        "train_x = dataset[\"Column2\"]\n",
        "train_y = dataset[\"category_id\"]\n",
        "test_x = testset[\"Column2\"]\n",
        "test_y = testset[\"category_id\"]\n",
        "\n",
        "for i in range(len(train_x)):\n",
        "  train_x[i] = replace_contractions(train_x[i])\n",
        "  train_x[i] = remove_emails(train_x[i])\n",
        "  train_x[i] = delete_punctuation(train_x[i])\n",
        "  train_x[i] = delete_emoji(train_x[i])\n",
        "  train_x[i] = delete_digits(train_x[i])\n",
        "  train_x[i] = remove_stopwords(train_x[i])\n",
        "\n",
        "for i in range(len(test_x)):\n",
        "  test_x[i] = replace_contractions(test_x[i])\n",
        "  test_x[i] = remove_emails(test_x[i])\n",
        "  test_x[i] = delete_punctuation(test_x[i])\n",
        "  test_x[i] = delete_emoji(test_x[i])\n",
        "  test_x[i] = delete_digits(test_x[i])\n",
        "  test_x[i] = remove_stopwords(test_x[i])\n",
        "\n"
      ],
      "metadata": {
        "pycharm": {
          "name": "#%%\n"
        },
        "id": "fySiVht3QUFH"
      }
    },
    {
      "cell_type": "code",
      "source": [
        "print(train_x[0])"
      ],
      "metadata": {
        "colab": {
          "base_uri": "https://localhost:8080/"
        },
        "id": "RfI378zkgRMG",
        "outputId": "99cace62-957a-4892-d6cd-e29b035d602c"
      },
      "execution_count": null,
      "outputs": [
        {
          "output_type": "stream",
          "name": "stdout",
          "text": [
            "waiting mind breakdown feeling anymore know anyone else little bit worried go back depressed days something last tried breakdowns start mere days later broke crying entire december ok month wait weird way act feel feels bit normal\n"
          ]
        }
      ]
    },
    {
      "cell_type": "markdown",
      "source": [
        "# Lemmatization"
      ],
      "metadata": {
        "id": "cfS5G2jQ4GGh"
      }
    },
    {
      "cell_type": "code",
      "execution_count": 8,
      "outputs": [],
      "source": [
        "# lemmatization : crying -> cry, days -> day\n",
        "\n",
        "def get_pos(word):\n",
        "    tag = nltk.pos_tag([word])[0][1][0].upper()\n",
        "    tag_dict = {\"J\": wordnet.ADJ,\n",
        "                \"N\": wordnet.NOUN,\n",
        "                \"V\": wordnet.VERB,\n",
        "                \"R\": wordnet.ADV}\n",
        "\n",
        "    return tag_dict.get(tag, wordnet.NOUN)\n",
        "\n",
        "\n",
        "def lemm(text):\n",
        "    text = text.split()\n",
        "    lemmatizer = WordNetLemmatizer()\n",
        "    sar_list_lemmatizer = [lemmatizer.lemmatize(word, get_pos(word)) for word in text]\n",
        "    return \" \".join(sar_list_lemmatizer)\n",
        "\n",
        "train_x = train_x.apply(lemm)\n",
        "test_x = test_x.apply(lemm)"
      ],
      "metadata": {
        "pycharm": {
          "name": "#%%\n"
        },
        "id": "3oSwfDyzQUFb"
      }
    },
    {
      "cell_type": "code",
      "source": [
        "print(train_x[0])"
      ],
      "metadata": {
        "colab": {
          "base_uri": "https://localhost:8080/"
        },
        "id": "0Gst2fP9GIvO",
        "outputId": "69ba2fbc-0900-4d0e-f9b4-c5386b677fbd"
      },
      "execution_count": 9,
      "outputs": [
        {
          "output_type": "stream",
          "name": "stdout",
          "text": [
            "wait mind breakdown feel anymore know anyone else little bit worried go back depressed day something last try breakdown start mere day later broke cry entire december ok month wait weird way act feel feel bit normal\n"
          ]
        }
      ]
    },
    {
      "cell_type": "code",
      "source": [
        "plt.figure(figsize=(12,6))\n",
        "text = ' '.join(train_x[dataset['Column3']=='severe'])\n",
        "wc = WordCloud(background_color='white').generate(text)\n",
        "plt.imshow(wc)"
      ],
      "metadata": {
        "colab": {
          "base_uri": "https://localhost:8080/",
          "height": 394
        },
        "id": "t0Oao20MI9Mc",
        "outputId": "d24d50e5-7e55-4814-c80f-74d78c7e25b9"
      },
      "execution_count": null,
      "outputs": [
        {
          "output_type": "execute_result",
          "data": {
            "text/plain": [
              "<matplotlib.image.AxesImage at 0x7f8b34ee6510>"
            ]
          },
          "metadata": {},
          "execution_count": 178
        },
        {
          "output_type": "display_data",
          "data": {
            "text/plain": [
              "<Figure size 864x432 with 1 Axes>"
            ],
            "image/png": "[encoded data removed]"
          },
          "metadata": {
            "needs_background": "light"
          }
        }
      ]
    },
    {
      "cell_type": "markdown",
      "source": [
        "# Count Vectorizer"
      ],
      "metadata": {
        "id": "IMHPbMBI4VTQ"
      }
    },
    {
      "cell_type": "code",
      "execution_count": null,
      "outputs": [
        {
          "output_type": "stream",
          "name": "stdout",
          "text": [
            "(8068, 10252)\n"
          ]
        }
      ],
      "source": [
        "# CountVectorizer reprezentation for the user tweets\n",
        "vectorizer = CountVectorizer()\n",
        "x_train_cv = vectorizer.fit_transform(train_x)\n",
        "\n",
        "x_test_cv = vectorizer.transform(test_x)\n",
        "print(x_train_cv.shape)"
      ],
      "metadata": {
        "pycharm": {
          "name": "#%%\n"
        },
        "id": "8blt8KSfQUFd",
        "colab": {
          "base_uri": "https://localhost:8080/"
        },
        "outputId": "b8caf479-8628-46c5-bc65-1403e2c54b6b"
      }
    },
    {
      "cell_type": "markdown",
      "source": [
        "# Data imbalance handling"
      ],
      "metadata": {
        "id": "7MBdfMwk4bR_"
      }
    },
    {
      "cell_type": "code",
      "source": [
        "sm = SMOTE(random_state = 42)\n",
        "res_x, res_y = sm.fit_resample(x_train_cv, train_y)\n",
        "print(\"After OverSampling, counts of label '2': {}\".format(sum(res_y == 2)))"
      ],
      "metadata": {
        "id": "w-x13nL-a0EM",
        "colab": {
          "base_uri": "https://localhost:8080/"
        },
        "outputId": "474bff66-05f0-4c43-fff7-c1c795f193ce"
      },
      "execution_count": null,
      "outputs": [
        {
          "output_type": "stream",
          "name": "stdout",
          "text": [
            "After OverSampling, counts of label '2': 5647\n"
          ]
        }
      ]
    },
    {
      "cell_type": "code",
      "source": [
        "os = RandomOverSampler()\n",
        "res_x2, res_y2 = os.fit_resample(x_train_cv, train_y)"
      ],
      "metadata": {
        "id": "020ZvbDV8Yk7"
      },
      "execution_count": null,
      "outputs": []
    },
    {
      "cell_type": "markdown",
      "source": [
        "# Tf-Idf "
      ],
      "metadata": {
        "id": "2abJM4PN4yyY"
      }
    },
    {
      "cell_type": "code",
      "source": [
        "# Tf-idf reprezentation for the tweets\n",
        "from sklearn.feature_selection import chi2\n",
        "vectorizer = TfidfVectorizer(max_df = 0.15,min_df = 5, ngram_range=(1,2), stop_words='english')\n",
        "train_x_tf = vectorizer.fit_transform(train_x)\n",
        "test_x_tf = vectorizer.transform(test_x)\n",
        "N = 2\n",
        "# for Product, category_id in sorted(category_to_id_train.items()):\n",
        "#     features_chi2 = chi2(train_x_tf, train_y == category_id)\n",
        "#     indices = np.argsort(features_chi2[0])\n",
        "#     feature_names = np.array(vectorizer.get_feature_names())[indices]\n",
        "#     unigrams = [v for v in feature_names if len(v.split(' ')) == 1]\n",
        "#     bigrams = [v for v in feature_names if len(v.split(' ')) == 2]\n",
        "#     print(\"# '{}':\".format(Product))\n",
        "#     print(\" Most correlated unigrams:\\n. {}\".format('\\n. '.join(unigrams[-N:])))\n",
        "#     print(\" Most correlated bigrams:\\n. {}\".format('\\n. '.join(bigrams[-N:])))\n",
        "res_tfx, res_tfy = sm.fit_resample(train_x_tf, train_y)\n",
        "print(train_x_tf.shape)\n",
        "print(res_tfx.shape)"
      ],
      "metadata": {
        "id": "WkoI7tMeRnXz",
        "colab": {
          "base_uri": "https://localhost:8080/",
          "height": 235
        },
        "outputId": "c3e62301-4fc1-4468-b2cb-9beef686413b"
      },
      "execution_count": null,
      "outputs": [
        {
          "output_type": "error",
          "ename": "NameError",
          "evalue": "ignored",
          "traceback": [
            "\u001b[0;31m---------------------------------------------------------------------------\u001b[0m",
            "\u001b[0;31mNameError\u001b[0m                                 Traceback (most recent call last)",
            "\u001b[0;32m<ipython-input-61-29aab8ab3993>\u001b[0m in \u001b[0;36m<module>\u001b[0;34m()\u001b[0m\n\u001b[1;32m     14\u001b[0m \u001b[0;31m#     print(\" Most correlated unigrams:\\n. {}\".format('\\n. '.join(unigrams[-N:])))\u001b[0m\u001b[0;34m\u001b[0m\u001b[0;34m\u001b[0m\u001b[0;34m\u001b[0m\u001b[0m\n\u001b[1;32m     15\u001b[0m \u001b[0;31m#     print(\" Most correlated bigrams:\\n. {}\".format('\\n. '.join(bigrams[-N:])))\u001b[0m\u001b[0;34m\u001b[0m\u001b[0;34m\u001b[0m\u001b[0;34m\u001b[0m\u001b[0m\n\u001b[0;32m---> 16\u001b[0;31m \u001b[0mres_tfx\u001b[0m\u001b[0;34m,\u001b[0m \u001b[0mres_tfy\u001b[0m \u001b[0;34m=\u001b[0m \u001b[0msm\u001b[0m\u001b[0;34m.\u001b[0m\u001b[0mfit_resample\u001b[0m\u001b[0;34m(\u001b[0m\u001b[0mtrain_x_tf\u001b[0m\u001b[0;34m,\u001b[0m \u001b[0mtrain_y\u001b[0m\u001b[0;34m)\u001b[0m\u001b[0;34m\u001b[0m\u001b[0;34m\u001b[0m\u001b[0m\n\u001b[0m\u001b[1;32m     17\u001b[0m \u001b[0mprint\u001b[0m\u001b[0;34m(\u001b[0m\u001b[0mtrain_x_tf\u001b[0m\u001b[0;34m.\u001b[0m\u001b[0mshape\u001b[0m\u001b[0;34m)\u001b[0m\u001b[0;34m\u001b[0m\u001b[0;34m\u001b[0m\u001b[0m\n\u001b[1;32m     18\u001b[0m \u001b[0mprint\u001b[0m\u001b[0;34m(\u001b[0m\u001b[0mres_tfx\u001b[0m\u001b[0;34m.\u001b[0m\u001b[0mshape\u001b[0m\u001b[0;34m)\u001b[0m\u001b[0;34m\u001b[0m\u001b[0;34m\u001b[0m\u001b[0m\n",
            "\u001b[0;31mNameError\u001b[0m: name 'sm' is not defined"
          ]
        }
      ]
    },
    {
      "cell_type": "markdown",
      "source": [
        "# Word2Vec"
      ],
      "metadata": {
        "id": "5_goD7gM5Bnj"
      }
    },
    {
      "cell_type": "code",
      "execution_count": 55,
      "outputs": [],
      "source": [
        "# Word2Vec reprezentation\n",
        "def w2v(train_x):\n",
        "  corpus_text = 'n'.join(train_x)\n",
        "  data = []\n",
        "  # iterate through each sentence in the file\n",
        "  for i in sent_tokenize(corpus_text):\n",
        "      temp = []\n",
        "      # tokenize the sentence into words\n",
        "      for j in word_tokenize(i):\n",
        "          temp.append(j.lower())\n",
        "      data.append(temp)\n",
        "\n",
        "  model1 = gensim.models.Word2Vec(min_count = 5,size = 300, window = 5, alpha = 0.025)\n",
        "  model1.build_vocab(data)\n",
        "  print(len(model1.wv.vocab))\n",
        "  model1.train(data, total_examples = model1.corpus_count, epochs=30)\n",
        "\n",
        "  print(model1.wv.most_similar(positive=[\"depression\"]))\n",
        "\n",
        "  vocab = list(model1.wv.vocab.keys())\n",
        "\n",
        "  word2vec_dict ={}\n",
        "  for word in vocab:\n",
        "    word2vec_dict[word] = model1.wv.get_vector(word)\n",
        "\n",
        "  maxi=-1\n",
        "  for i,rev in enumerate(train_x):\n",
        "    tokens=rev.split()\n",
        "    if(len(tokens)>maxi):\n",
        "      maxi=len(tokens)\n",
        "\n",
        "  tok = Tokenizer()\n",
        "  tok.fit_on_texts(train_x)\n",
        "  vocab_size = len(tok.word_index) + 1\n",
        "  encd_rev = tok.texts_to_sequences(train_x)\n",
        "\n",
        "  max_len = 1464\n",
        "  embed_dim = 300\n",
        "  pad_rev = pad_sequences(encd_rev, maxlen=max_len, padding='post')\n",
        "  embed_matrix = np.zeros(shape=(vocab_size, embed_dim))\n",
        "  for word,i in tok.word_index.items():\n",
        "    embed_vector=word2vec_dict.get(word)\n",
        "    if embed_vector is not None:  # word is in the vocabulary learned by the w2v model\n",
        "      embed_matrix[i]=embed_vector\n",
        "  return embed_matrix,pad_rev,vocab_size,embed_dim,max_len"
      ],
      "metadata": {
        "pycharm": {
          "name": "#%%\n"
        },
        "id": "iTATudKbQUFe"
      }
    },
    {
      "cell_type": "code",
      "source": [
        "sent = [row.split() for row in train_x]"
      ],
      "metadata": {
        "id": "Q_TNLIZYk8DA"
      },
      "execution_count": null,
      "outputs": []
    },
    {
      "cell_type": "code",
      "source": [
        "from gensim.models.phrases import Phrases, Phraser\n"
      ],
      "metadata": {
        "id": "wH95fWT2lHE2"
      },
      "execution_count": 19,
      "outputs": []
    },
    {
      "cell_type": "code",
      "source": [
        "bigram = Phraser(phrases)\n",
        "sentences = bigram[sent]"
      ],
      "metadata": {
        "id": "ffE5uhQflNF9"
      },
      "execution_count": null,
      "outputs": []
    },
    {
      "cell_type": "code",
      "source": [
        "print(sentences)"
      ],
      "metadata": {
        "id": "xslKOh8bnezF"
      },
      "execution_count": null,
      "outputs": []
    },
    {
      "cell_type": "code",
      "source": [
        "w2v_model = Word2Vec(min_count=20,\n",
        "                     window=5,\n",
        "                     size=300,\n",
        "                     sample=6e-5, \n",
        "                     alpha=0.03, \n",
        "                     min_alpha=0.0007, \n",
        "                     negative=20,\n",
        "                     )"
      ],
      "metadata": {
        "id": "XP-cfBanlg4R"
      },
      "execution_count": null,
      "outputs": []
    },
    {
      "cell_type": "code",
      "source": [
        "w2v_model.build_vocab(sentences)"
      ],
      "metadata": {
        "id": "FjD343pblz0d"
      },
      "execution_count": null,
      "outputs": []
    },
    {
      "cell_type": "code",
      "source": [
        "w2v_model.train(sentences, total_examples=w2v_model.corpus_count, epochs=30, report_delay=1)"
      ],
      "metadata": {
        "colab": {
          "base_uri": "https://localhost:8080/"
        },
        "id": "uHmC66qBl6T1",
        "outputId": "9a10147b-62c4-48a5-ef56-28f41040b0a8"
      },
      "execution_count": null,
      "outputs": [
        {
          "output_type": "execute_result",
          "data": {
            "text/plain": [
              "(5675934, 16754460)"
            ]
          },
          "metadata": {},
          "execution_count": 76
        }
      ]
    },
    {
      "cell_type": "code",
      "source": [
        "w2v_model.wv.most_similar(positive=[\"depression\"])"
      ],
      "metadata": {
        "colab": {
          "base_uri": "https://localhost:8080/"
        },
        "id": "rSI6JFcmmM43",
        "outputId": "06bb1c61-8a23-4543-c452-77acb4935e3f"
      },
      "execution_count": null,
      "outputs": [
        {
          "output_type": "execute_result",
          "data": {
            "text/plain": [
              "[('anxiety', 0.5718693733215332),\n",
              " ('diagnose', 0.5230121612548828),\n",
              " ('disorder', 0.4272606372833252),\n",
              " ('ptsd', 0.3910037577152252),\n",
              " ('severe', 0.3898566663265228),\n",
              " ('adhd', 0.37263554334640503),\n",
              " ('recently', 0.37178850173950195),\n",
              " ('symptom', 0.3715326488018036),\n",
              " ('battling', 0.3693320155143738),\n",
              " ('struggle', 0.35999664664268494)]"
            ]
          },
          "metadata": {},
          "execution_count": 77
        }
      ]
    },
    {
      "cell_type": "code",
      "source": [
        "def w2vv(train_x):\n",
        "  sent = [row.split() for row in train_x]\n",
        "  \n",
        "  phrases = Phrases(sent, min_count=30)\n",
        "  bigram = Phraser(phrases)\n",
        "  sentences = bigram[sent]\n",
        "  w2v_model = Word2Vec(min_count=20,\n",
        "                     window=5,\n",
        "                     size=300,\n",
        "                     sample=6e-5, \n",
        "                     alpha=0.03, \n",
        "                     min_alpha=0.0007, \n",
        "                     negative=20,\n",
        "                     )\n",
        "  w2v_model.build_vocab(sentences)\n",
        "  w2v_model.train(sentences, total_examples=w2v_model.corpus_count, epochs=30, report_delay=1)\n",
        "  vocab = list(w2v_model.wv.vocab.keys())\n",
        "\n",
        "  word2vec_dict ={}\n",
        "  for word in vocab:\n",
        "    word2vec_dict[word] = w2v_model.wv.get_vector(word)\n",
        "\n",
        "  tok = Tokenizer()\n",
        "  tok.fit_on_texts(sent)\n",
        "  vocab_size = 10339\n",
        "  encd_rev = tok.texts_to_sequences(sent)\n",
        "\n",
        "  max_len = 1464\n",
        "  embed_dim = 300\n",
        "  pad_rev = pad_sequences(encd_rev, maxlen=max_len, padding='post')\n",
        "  embed_matrix = np.zeros(shape=(vocab_size, embed_dim))\n",
        "  for word,i in tok.word_index.items():\n",
        "    embed_vector=word2vec_dict.get(word)\n",
        "    if embed_vector is not None:  # word is in the vocabulary learned by the w2v model\n",
        "      embed_matrix[i]=embed_vector\n",
        "  return embed_matrix,pad_rev,vocab_size,embed_dim,max_len"
      ],
      "metadata": {
        "id": "nINXT8cbqjEW"
      },
      "execution_count": 53,
      "outputs": []
    },
    {
      "cell_type": "code",
      "source": [
        ""
      ],
      "metadata": {
        "colab": {
          "base_uri": "https://localhost:8080/",
          "height": 165
        },
        "id": "OTP_-3R7m6Dk",
        "outputId": "c0ad7041-0726-4161-842f-4008b17bd15a"
      },
      "execution_count": 32,
      "outputs": [
        {
          "output_type": "error",
          "ename": "NameError",
          "evalue": "ignored",
          "traceback": [
            "\u001b[0;31m---------------------------------------------------------------------------\u001b[0m",
            "\u001b[0;31mNameError\u001b[0m                                 Traceback (most recent call last)",
            "\u001b[0;32m<ipython-input-32-8d6a5824c884>\u001b[0m in \u001b[0;36m<module>\u001b[0;34m()\u001b[0m\n\u001b[0;32m----> 1\u001b[0;31m \u001b[0mprint\u001b[0m\u001b[0;34m(\u001b[0m\u001b[0mw2v_model\u001b[0m\u001b[0;34m.\u001b[0m\u001b[0mwv\u001b[0m\u001b[0;34m.\u001b[0m\u001b[0mmost_similar\u001b[0m\u001b[0;34m(\u001b[0m\u001b[0mpositive\u001b[0m\u001b[0;34m=\u001b[0m\u001b[0;34m'parents'\u001b[0m\u001b[0;34m)\u001b[0m\u001b[0;34m)\u001b[0m\u001b[0;34m\u001b[0m\u001b[0;34m\u001b[0m\u001b[0m\n\u001b[0m",
            "\u001b[0;31mNameError\u001b[0m: name 'w2v_model' is not defined"
          ]
        }
      ]
    },
    {
      "cell_type": "code",
      "source": [
        "embeddings_train,pad_rev_train,vocab_train,embed_dim_train,max_len = w2vv(train_x)\n"
      ],
      "metadata": {
        "id": "Okz0dFL0FpiF"
      },
      "execution_count": 37,
      "outputs": []
    },
    {
      "cell_type": "code",
      "source": [
        "embeddings_test,pad_rev_test,vocab_test,embed_dim_test,max_len_test = w2v(test_x)"
      ],
      "metadata": {
        "colab": {
          "base_uri": "https://localhost:8080/"
        },
        "id": "Pwze6yYAv-xl",
        "outputId": "5621e491-9c3b-4437-e997-fb39dbd736a2"
      },
      "execution_count": 56,
      "outputs": [
        {
          "output_type": "stream",
          "name": "stdout",
          "text": [
            "3878\n",
            "[('also', 0.9999441504478455), ('reality', 0.9999353885650635), ('isolated', 0.9999352693557739), ('thats', 0.9999350309371948), ('idea', 0.9999345541000366), ('effect', 0.9999323487281799), ('literally', 0.9999312162399292), ('coronavirus', 0.9999300241470337), ('si', 0.9999276399612427), ('recently', 0.9999231696128845)]\n"
          ]
        }
      ]
    },
    {
      "cell_type": "code",
      "source": [
        "print(embeddings_train.shape)\n",
        "print(embeddings_test.shape)"
      ],
      "metadata": {
        "colab": {
          "base_uri": "https://localhost:8080/"
        },
        "id": "Qz8NbzloIWJc",
        "outputId": "50554cb6-f3dd-4f5e-b414-ce1225d16fe9"
      },
      "execution_count": 44,
      "outputs": [
        {
          "output_type": "stream",
          "name": "stdout",
          "text": [
            "(10339, 300)\n",
            "(10339, 300)\n"
          ]
        }
      ]
    },
    {
      "cell_type": "markdown",
      "source": [
        "# Naive Bayes"
      ],
      "metadata": {
        "id": "KsTCPqZS4jzh"
      }
    },
    {
      "cell_type": "code",
      "source": [
        "naive_bayes_classifier = MultinomialNB()\n",
        "naive_bayes_classifier.fit(res_x, res_y)\n",
        "pred_y = naive_bayes_classifier.predict(x_test_cv)\n",
        "\n",
        "score1 = metrics.accuracy_score(test_y, pred_y)\n",
        "print(\"Accuracy \" + str(score1))\n",
        "print(metrics.classification_report(test_y, pred_y))"
      ],
      "metadata": {
        "id": "uDe2Ts7ZgnZs",
        "colab": {
          "base_uri": "https://localhost:8080/"
        },
        "outputId": "6a391f85-2455-4f76-e893-2fef330681c2"
      },
      "execution_count": null,
      "outputs": [
        {
          "output_type": "stream",
          "name": "stdout",
          "text": [
            "Accuracy 0.521824423737126\n",
            "              precision    recall  f1-score   support\n",
            "\n",
            "           0       0.57      0.82      0.67      2198\n",
            "           1       0.63      0.15      0.24      1522\n",
            "           2       0.19      0.30      0.23       358\n",
            "\n",
            "    accuracy                           0.52      4078\n",
            "   macro avg       0.46      0.42      0.38      4078\n",
            "weighted avg       0.56      0.52      0.47      4078\n",
            "\n"
          ]
        }
      ]
    },
    {
      "cell_type": "code",
      "source": [
        "naive_bayes_classifier = MultinomialNB()\n",
        "naive_bayes_classifier.fit(res_tfx, res_tfy)\n",
        "# naive_bayes_classifier.fit(train_x_tf, train_y)\n",
        "pred_y = naive_bayes_classifier.predict(test_x_tf)\n",
        "score1 = metrics.accuracy_score(test_y, pred_y)\n",
        "print(\"Accuracy \" + str(score1))\n",
        "print(metrics.classification_report(test_y, pred_y))"
      ],
      "metadata": {
        "colab": {
          "base_uri": "https://localhost:8080/"
        },
        "id": "UVkenp6V8Qce",
        "outputId": "c841384f-ea81-465c-8a78-47c598e81709"
      },
      "execution_count": null,
      "outputs": [
        {
          "output_type": "stream",
          "name": "stdout",
          "text": [
            "Accuracy 0.3021088769004414\n",
            "              precision    recall  f1-score   support\n",
            "\n",
            "           0       0.55      0.26      0.36      2198\n",
            "           1       0.52      0.23      0.32      1522\n",
            "           2       0.13      0.85      0.22       358\n",
            "\n",
            "    accuracy                           0.30      4078\n",
            "   macro avg       0.40      0.45      0.30      4078\n",
            "weighted avg       0.50      0.30      0.33      4078\n",
            "\n"
          ]
        }
      ]
    },
    {
      "cell_type": "markdown",
      "source": [
        "# AdaBoost"
      ],
      "metadata": {
        "id": "cWK3dbEM45Fj"
      }
    },
    {
      "cell_type": "code",
      "source": [
        "# res_x2, res_y2 = sm.fit_resample(train_x_tf, train_y)\n",
        "ada = AdaBoostClassifier()\n",
        "\n",
        "# boost = ada.fit(train_x_tf, train_y)\n",
        "boost = ada.fit(res_tfx, res_tfy)\n",
        "pred_y = boost.predict(test_x_tf)\n",
        "print(\"AdaBoost Classifier Model Accuracy:\", accuracy_score(test_y, pred_y))\n",
        "print(metrics.classification_report(test_y, pred_y))"
      ],
      "metadata": {
        "id": "6QDGISapwPVO",
        "colab": {
          "base_uri": "https://localhost:8080/"
        },
        "outputId": "38f7870f-1a36-4594-b2b8-479703d73b61"
      },
      "execution_count": null,
      "outputs": [
        {
          "output_type": "stream",
          "name": "stdout",
          "text": [
            "AdaBoost Classifier Model Accuracy: 0.4681216282491417\n",
            "              precision    recall  f1-score   support\n",
            "\n",
            "           0       0.61      0.35      0.45      2198\n",
            "           1       0.46      0.64      0.54      1522\n",
            "           2       0.23      0.43      0.30       358\n",
            "\n",
            "    accuracy                           0.47      4078\n",
            "   macro avg       0.43      0.48      0.43      4078\n",
            "weighted avg       0.52      0.47      0.47      4078\n",
            "\n"
          ]
        }
      ]
    },
    {
      "cell_type": "markdown",
      "source": [
        "# Regression"
      ],
      "metadata": {
        "id": "Kz3D-3YoDine"
      }
    },
    {
      "cell_type": "code",
      "source": [
        "class_weight = {0: 1.,\n",
        "                1: 3.,\n",
        "                2: 4.}\n",
        "\n",
        "model = LogisticRegression(multi_class='multinomial', solver='newton-cg', class_weight = class_weight)\n",
        "# cv = RepeatedStratifiedKFold(n_splits = 10, n_repeats=3)\n",
        "# model = model.fit(train_x_tf, train_y)\n",
        "# y_pred = model.predict(test_x_tf)\n",
        "\n",
        "# model = model.fit(res_tfx, res_tfy)\n",
        "# y_pred = model.predict(test_x_tf)\n",
        "\n",
        "model = model.fit(pad_rev_train, train_y)\n",
        "y_pred = model.predict(pad_rev_test)\n",
        "print(\"Regression Classifier Model Accuracy:\", accuracy_score(test_y, y_pred))\n",
        "print(metrics.classification_report(test_y, y_pred))\n",
        "\n",
        "conf_mat = confusion_matrix(test_y, y_pred)\n",
        "print(conf_mat)\n"
      ],
      "metadata": {
        "id": "hKYzd_kPDmDu",
        "colab": {
          "base_uri": "https://localhost:8080/"
        },
        "outputId": "54cea443-ee91-4fb4-d2fa-57bbceca9323"
      },
      "execution_count": null,
      "outputs": [
        {
          "output_type": "stream",
          "name": "stdout",
          "text": [
            "Regression Classifier Model Accuracy: 0.4494850416871015\n",
            "              precision    recall  f1-score   support\n",
            "\n",
            "           0       0.57      0.50      0.53      2198\n",
            "           1       0.45      0.43      0.44      1522\n",
            "           2       0.12      0.24      0.16       358\n",
            "\n",
            "    accuracy                           0.45      4078\n",
            "   macro avg       0.38      0.39      0.38      4078\n",
            "weighted avg       0.49      0.45      0.47      4078\n",
            "\n",
            "[[1089  688  421]\n",
            " [ 653  658  211]\n",
            " [ 157  115   86]]\n"
          ]
        },
        {
          "output_type": "stream",
          "name": "stderr",
          "text": [
            "/usr/local/lib/python3.7/dist-packages/sklearn/utils/optimize.py:212: ConvergenceWarning: newton-cg failed to converge. Increase the number of iterations.\n",
            "  ConvergenceWarning,\n"
          ]
        }
      ]
    },
    {
      "cell_type": "code",
      "source": [
        "\n",
        "class_weight = {0: 1.,\n",
        "                1: 3.,\n",
        "                2: 6.}\n",
        "model = LinearSVC()\n",
        "model = model.fit(res_tfx, res_tfy)\n",
        "y_pred = model.predict(test_x_tf)\n",
        "print(\"Svc Classifier Model Accuracy:\", accuracy_score(test_y, y_pred))\n",
        "print(metrics.classification_report(test_y, y_pred))\n",
        "\n",
        "conf_mat = confusion_matrix(test_y, y_pred)\n",
        "print(conf_mat)\n"
      ],
      "metadata": {
        "colab": {
          "base_uri": "https://localhost:8080/"
        },
        "id": "wDRy1f9pv-I1",
        "outputId": "5bed51fc-7302-4a80-dc89-48414a88d783"
      },
      "execution_count": null,
      "outputs": [
        {
          "output_type": "stream",
          "name": "stdout",
          "text": [
            "Svc Classifier Model Accuracy: 0.5255026974006866\n",
            "              precision    recall  f1-score   support\n",
            "\n",
            "           0       0.62      0.58      0.60      2198\n",
            "           1       0.48      0.45      0.47      1522\n",
            "           2       0.30      0.51      0.38       358\n",
            "\n",
            "    accuracy                           0.53      4078\n",
            "   macro avg       0.47      0.51      0.48      4078\n",
            "weighted avg       0.54      0.53      0.53      4078\n",
            "\n",
            "[[1279  654  265]\n",
            " [ 689  681  152]\n",
            " [ 105   70  183]]\n"
          ]
        }
      ]
    },
    {
      "cell_type": "code",
      "source": [
        "\n",
        "class_weight = {0: 1.,\n",
        "                1: 3.,\n",
        "                2: 5.}\n",
        "model = RandomForestClassifier(class_weight=class_weight)\n",
        "model = model.fit(train_x_tf,train_y)\n",
        "y_pred = model.predict(test_x_tf)\n",
        "print(\"RandomForest Classifier Model Accuracy:\", accuracy_score(test_y, y_pred))\n",
        "print(metrics.classification_report(test_y, y_pred))\n",
        "\n",
        "conf_mat = confusion_matrix(test_y, y_pred)\n",
        "print(conf_mat)"
      ],
      "metadata": {
        "colab": {
          "base_uri": "https://localhost:8080/"
        },
        "id": "aPLXrd2Cb32y",
        "outputId": "540980be-a464-4fd3-edc0-44f336dd1727"
      },
      "execution_count": null,
      "outputs": [
        {
          "output_type": "stream",
          "name": "stdout",
          "text": [
            "RandomForest Classifier Model Accuracy: 0.5848455125061305\n",
            "              precision    recall  f1-score   support\n",
            "\n",
            "           0       0.58      0.92      0.71      2198\n",
            "           1       0.67      0.19      0.29      1522\n",
            "           2       0.50      0.21      0.30       358\n",
            "\n",
            "    accuracy                           0.58      4078\n",
            "   macro avg       0.58      0.44      0.43      4078\n",
            "weighted avg       0.61      0.58      0.52      4078\n",
            "\n",
            "[[2023  127   48]\n",
            " [1209  287   26]\n",
            " [ 269   14   75]]\n"
          ]
        }
      ]
    },
    {
      "cell_type": "markdown",
      "source": [
        "# F1 metric"
      ],
      "metadata": {
        "id": "lgvLSOR8gsOn"
      }
    },
    {
      "cell_type": "code",
      "source": [
        "\n",
        "def f1(y_true, y_pred):\n",
        "    y_pred = K.round(y_pred)\n",
        "    tp = K.sum(K.cast(y_true*y_pred, 'float'), axis=0)\n",
        "    tn = K.sum(K.cast((1-y_true)*(1-y_pred), 'float'), axis=0)\n",
        "    fp = K.sum(K.cast((1-y_true)*y_pred, 'float'), axis=0)\n",
        "    fn = K.sum(K.cast(y_true*(1-y_pred), 'float'), axis=0)\n",
        "\n",
        "    p = tp / (tp + fp + K.epsilon())\n",
        "    r = tp / (tp + fn + K.epsilon())\n",
        "\n",
        "    f1 = 2*p*r / (p+r+K.epsilon())\n",
        "    f1 = tf.where(tf.math.is_nan(f1), tf.zeros_like(f1), f1)\n",
        "    return K.mean(f1)\n",
        "\n",
        "def f1_loss(y_true, y_pred):\n",
        "    \n",
        "    tp = K.sum(K.cast(y_true*y_pred, 'float'), axis=0)\n",
        "    tn = K.sum(K.cast((1-y_true)*(1-y_pred), 'float'), axis=0)\n",
        "    fp = K.sum(K.cast((1-y_true)*y_pred, 'float'), axis=0)\n",
        "    fn = K.sum(K.cast(y_true*(1-y_pred), 'float'), axis=0)\n",
        "\n",
        "    p = tp / (tp + fp + K.epsilon())\n",
        "    r = tp / (tp + fn + K.epsilon())\n",
        "\n",
        "    f1 = 2*p*r / (p+r+K.epsilon())\n",
        "    f1 = tf.where(tf.math.is_nan(f1), tf.zeros_like(f1), f1)\n",
        "    return 1 - K.mean(f1)"
      ],
      "metadata": {
        "id": "bdQgAL5I6cCW"
      },
      "execution_count": 10,
      "outputs": []
    },
    {
      "cell_type": "markdown",
      "source": [
        "# Neural Network"
      ],
      "metadata": {
        "id": "tUiQnNNV5Frg"
      }
    },
    {
      "cell_type": "code",
      "source": [
        "class_weight = {0: 1.,\n",
        "                1: 3.,\n",
        "                2: 5.}\n",
        "\n",
        "def split(pad_rev,train_y):\n",
        "  Y=keras.utils.to_categorical(train_y)  # one hot target as required by NN.\n",
        "  x_train,x_test,y_train,y_test=train_test_split(pad_rev,Y,test_size=0.1,random_state=42)\n",
        "  return x_train, x_test,y_train,y_test\n",
        "def network(vocab_size,embed_dim,embed_matrix):\n",
        "  model=Sequential()\n",
        "  model.add(Embedding(input_dim=vocab_size,output_dim=embed_dim,input_length=max_len,embeddings_initializer=Constant(embed_matrix)))\n",
        "  model.add(Flatten())\n",
        "  model.add(Dense(16,activation='relu', kernel_regularizer='l2',bias_regularizer='l2'))\n",
        "  model.add(Dropout(0.20))\n",
        "  model.add(Dense(3,activation='softmax'))\n",
        "\n",
        "  model.compile(optimizer=keras.optimizers.Adam(learning_rate=1e-4),\n",
        "  loss=f1_loss,metrics=[f1])\n",
        "  return model\n",
        "\n",
        "x_train,x_test,y_train,y_test = split(pad_rev_train,train_y)\n",
        "model = network(vocab_train,embed_dim_train,embeddings_train)\n",
        "x_valid, x_x, y_valid, y_y = split(pad_rev_test,test_y)\n",
        "model.fit(x_train, y_train, epochs=10, batch_size=64, validation_data=(x_valid,y_valid), class_weight = class_weight)\n"
      ],
      "metadata": {
        "id": "QAeWwiGyMJFL",
        "colab": {
          "base_uri": "https://localhost:8080/",
          "height": 692
        },
        "outputId": "c32930f9-c45a-46dd-e451-a14e056ade33"
      },
      "execution_count": 57,
      "outputs": [
        {
          "output_type": "stream",
          "name": "stdout",
          "text": [
            "Epoch 1/10\n",
            "113/114 [============================>.] - ETA: 0s - loss: 1.1394 - f1: 0.4407"
          ]
        },
        {
          "output_type": "error",
          "ename": "InvalidArgumentError",
          "evalue": "ignored",
          "traceback": [
            "\u001b[0;31m---------------------------------------------------------------------------\u001b[0m",
            "\u001b[0;31mInvalidArgumentError\u001b[0m                      Traceback (most recent call last)",
            "\u001b[0;32m<ipython-input-57-54a6404ad88b>\u001b[0m in \u001b[0;36m<module>\u001b[0;34m()\u001b[0m\n\u001b[1;32m     22\u001b[0m \u001b[0mmodel\u001b[0m \u001b[0;34m=\u001b[0m \u001b[0mnetwork\u001b[0m\u001b[0;34m(\u001b[0m\u001b[0mvocab_train\u001b[0m\u001b[0;34m,\u001b[0m\u001b[0membed_dim_train\u001b[0m\u001b[0;34m,\u001b[0m\u001b[0membeddings_train\u001b[0m\u001b[0;34m)\u001b[0m\u001b[0;34m\u001b[0m\u001b[0;34m\u001b[0m\u001b[0m\n\u001b[1;32m     23\u001b[0m \u001b[0mx_valid\u001b[0m\u001b[0;34m,\u001b[0m \u001b[0mx_x\u001b[0m\u001b[0;34m,\u001b[0m \u001b[0my_valid\u001b[0m\u001b[0;34m,\u001b[0m \u001b[0my_y\u001b[0m \u001b[0;34m=\u001b[0m \u001b[0msplit\u001b[0m\u001b[0;34m(\u001b[0m\u001b[0mpad_rev_test\u001b[0m\u001b[0;34m,\u001b[0m\u001b[0mtest_y\u001b[0m\u001b[0;34m)\u001b[0m\u001b[0;34m\u001b[0m\u001b[0;34m\u001b[0m\u001b[0m\n\u001b[0;32m---> 24\u001b[0;31m \u001b[0mmodel\u001b[0m\u001b[0;34m.\u001b[0m\u001b[0mfit\u001b[0m\u001b[0;34m(\u001b[0m\u001b[0mx_train\u001b[0m\u001b[0;34m,\u001b[0m \u001b[0my_train\u001b[0m\u001b[0;34m,\u001b[0m \u001b[0mepochs\u001b[0m\u001b[0;34m=\u001b[0m\u001b[0;36m10\u001b[0m\u001b[0;34m,\u001b[0m \u001b[0mbatch_size\u001b[0m\u001b[0;34m=\u001b[0m\u001b[0;36m64\u001b[0m\u001b[0;34m,\u001b[0m \u001b[0mvalidation_data\u001b[0m\u001b[0;34m=\u001b[0m\u001b[0;34m(\u001b[0m\u001b[0mx_valid\u001b[0m\u001b[0;34m,\u001b[0m\u001b[0my_valid\u001b[0m\u001b[0;34m)\u001b[0m\u001b[0;34m,\u001b[0m \u001b[0mclass_weight\u001b[0m \u001b[0;34m=\u001b[0m \u001b[0mclass_weight\u001b[0m\u001b[0;34m)\u001b[0m\u001b[0;34m\u001b[0m\u001b[0;34m\u001b[0m\u001b[0m\n\u001b[0m",
            "\u001b[0;32m/usr/local/lib/python3.7/dist-packages/tensorflow/python/keras/engine/training.py\u001b[0m in \u001b[0;36mfit\u001b[0;34m(self, x, y, batch_size, epochs, verbose, callbacks, validation_split, validation_data, shuffle, class_weight, sample_weight, initial_epoch, steps_per_epoch, validation_steps, validation_batch_size, validation_freq, max_queue_size, workers, use_multiprocessing)\u001b[0m\n\u001b[1;32m   1223\u001b[0m               \u001b[0muse_multiprocessing\u001b[0m\u001b[0;34m=\u001b[0m\u001b[0muse_multiprocessing\u001b[0m\u001b[0;34m,\u001b[0m\u001b[0;34m\u001b[0m\u001b[0;34m\u001b[0m\u001b[0m\n\u001b[1;32m   1224\u001b[0m               \u001b[0mreturn_dict\u001b[0m\u001b[0;34m=\u001b[0m\u001b[0;32mTrue\u001b[0m\u001b[0;34m,\u001b[0m\u001b[0;34m\u001b[0m\u001b[0;34m\u001b[0m\u001b[0m\n\u001b[0;32m-> 1225\u001b[0;31m               _use_cached_eval_dataset=True)\n\u001b[0m\u001b[1;32m   1226\u001b[0m           \u001b[0mval_logs\u001b[0m \u001b[0;34m=\u001b[0m \u001b[0;34m{\u001b[0m\u001b[0;34m'val_'\u001b[0m \u001b[0;34m+\u001b[0m \u001b[0mname\u001b[0m\u001b[0;34m:\u001b[0m \u001b[0mval\u001b[0m \u001b[0;32mfor\u001b[0m \u001b[0mname\u001b[0m\u001b[0;34m,\u001b[0m \u001b[0mval\u001b[0m \u001b[0;32min\u001b[0m \u001b[0mval_logs\u001b[0m\u001b[0;34m.\u001b[0m\u001b[0mitems\u001b[0m\u001b[0;34m(\u001b[0m\u001b[0;34m)\u001b[0m\u001b[0;34m}\u001b[0m\u001b[0;34m\u001b[0m\u001b[0;34m\u001b[0m\u001b[0m\n\u001b[1;32m   1227\u001b[0m           \u001b[0mepoch_logs\u001b[0m\u001b[0;34m.\u001b[0m\u001b[0mupdate\u001b[0m\u001b[0;34m(\u001b[0m\u001b[0mval_logs\u001b[0m\u001b[0;34m)\u001b[0m\u001b[0;34m\u001b[0m\u001b[0;34m\u001b[0m\u001b[0m\n",
            "\u001b[0;32m/usr/local/lib/python3.7/dist-packages/tensorflow/python/keras/engine/training.py\u001b[0m in \u001b[0;36mevaluate\u001b[0;34m(self, x, y, batch_size, verbose, sample_weight, steps, callbacks, max_queue_size, workers, use_multiprocessing, return_dict, **kwargs)\u001b[0m\n\u001b[1;32m   1487\u001b[0m             \u001b[0;32mwith\u001b[0m \u001b[0mtrace\u001b[0m\u001b[0;34m.\u001b[0m\u001b[0mTrace\u001b[0m\u001b[0;34m(\u001b[0m\u001b[0;34m'test'\u001b[0m\u001b[0;34m,\u001b[0m \u001b[0mstep_num\u001b[0m\u001b[0;34m=\u001b[0m\u001b[0mstep\u001b[0m\u001b[0;34m,\u001b[0m \u001b[0m_r\u001b[0m\u001b[0;34m=\u001b[0m\u001b[0;36m1\u001b[0m\u001b[0;34m)\u001b[0m\u001b[0;34m:\u001b[0m\u001b[0;34m\u001b[0m\u001b[0;34m\u001b[0m\u001b[0m\n\u001b[1;32m   1488\u001b[0m               \u001b[0mcallbacks\u001b[0m\u001b[0;34m.\u001b[0m\u001b[0mon_test_batch_begin\u001b[0m\u001b[0;34m(\u001b[0m\u001b[0mstep\u001b[0m\u001b[0;34m)\u001b[0m\u001b[0;34m\u001b[0m\u001b[0;34m\u001b[0m\u001b[0m\n\u001b[0;32m-> 1489\u001b[0;31m               \u001b[0mtmp_logs\u001b[0m \u001b[0;34m=\u001b[0m \u001b[0mself\u001b[0m\u001b[0;34m.\u001b[0m\u001b[0mtest_function\u001b[0m\u001b[0;34m(\u001b[0m\u001b[0miterator\u001b[0m\u001b[0;34m)\u001b[0m\u001b[0;34m\u001b[0m\u001b[0;34m\u001b[0m\u001b[0m\n\u001b[0m\u001b[1;32m   1490\u001b[0m               \u001b[0;32mif\u001b[0m \u001b[0mdata_handler\u001b[0m\u001b[0;34m.\u001b[0m\u001b[0mshould_sync\u001b[0m\u001b[0;34m:\u001b[0m\u001b[0;34m\u001b[0m\u001b[0;34m\u001b[0m\u001b[0m\n\u001b[1;32m   1491\u001b[0m                 \u001b[0mcontext\u001b[0m\u001b[0;34m.\u001b[0m\u001b[0masync_wait\u001b[0m\u001b[0;34m(\u001b[0m\u001b[0;34m)\u001b[0m\u001b[0;34m\u001b[0m\u001b[0;34m\u001b[0m\u001b[0m\n",
            "\u001b[0;32m/usr/local/lib/python3.7/dist-packages/tensorflow/python/eager/def_function.py\u001b[0m in \u001b[0;36m__call__\u001b[0;34m(self, *args, **kwds)\u001b[0m\n\u001b[1;32m    887\u001b[0m \u001b[0;34m\u001b[0m\u001b[0m\n\u001b[1;32m    888\u001b[0m       \u001b[0;32mwith\u001b[0m \u001b[0mOptionalXlaContext\u001b[0m\u001b[0;34m(\u001b[0m\u001b[0mself\u001b[0m\u001b[0;34m.\u001b[0m\u001b[0m_jit_compile\u001b[0m\u001b[0;34m)\u001b[0m\u001b[0;34m:\u001b[0m\u001b[0;34m\u001b[0m\u001b[0;34m\u001b[0m\u001b[0m\n\u001b[0;32m--> 889\u001b[0;31m         \u001b[0mresult\u001b[0m \u001b[0;34m=\u001b[0m \u001b[0mself\u001b[0m\u001b[0;34m.\u001b[0m\u001b[0m_call\u001b[0m\u001b[0;34m(\u001b[0m\u001b[0;34m*\u001b[0m\u001b[0margs\u001b[0m\u001b[0;34m,\u001b[0m \u001b[0;34m**\u001b[0m\u001b[0mkwds\u001b[0m\u001b[0;34m)\u001b[0m\u001b[0;34m\u001b[0m\u001b[0;34m\u001b[0m\u001b[0m\n\u001b[0m\u001b[1;32m    890\u001b[0m \u001b[0;34m\u001b[0m\u001b[0m\n\u001b[1;32m    891\u001b[0m       \u001b[0mnew_tracing_count\u001b[0m \u001b[0;34m=\u001b[0m \u001b[0mself\u001b[0m\u001b[0;34m.\u001b[0m\u001b[0mexperimental_get_tracing_count\u001b[0m\u001b[0;34m(\u001b[0m\u001b[0;34m)\u001b[0m\u001b[0;34m\u001b[0m\u001b[0;34m\u001b[0m\u001b[0m\n",
            "\u001b[0;32m/usr/local/lib/python3.7/dist-packages/tensorflow/python/eager/def_function.py\u001b[0m in \u001b[0;36m_call\u001b[0;34m(self, *args, **kwds)\u001b[0m\n\u001b[1;32m    955\u001b[0m       \u001b[0;31m# If we did not create any variables the trace we have is good enough.\u001b[0m\u001b[0;34m\u001b[0m\u001b[0;34m\u001b[0m\u001b[0;34m\u001b[0m\u001b[0m\n\u001b[1;32m    956\u001b[0m       return self._concrete_stateful_fn._call_flat(\n\u001b[0;32m--> 957\u001b[0;31m           filtered_flat_args, self._concrete_stateful_fn.captured_inputs)  # pylint: disable=protected-access\n\u001b[0m\u001b[1;32m    958\u001b[0m \u001b[0;34m\u001b[0m\u001b[0m\n\u001b[1;32m    959\u001b[0m     \u001b[0;32mdef\u001b[0m \u001b[0mfn_with_cond\u001b[0m\u001b[0;34m(\u001b[0m\u001b[0minner_args\u001b[0m\u001b[0;34m,\u001b[0m \u001b[0minner_kwds\u001b[0m\u001b[0;34m,\u001b[0m \u001b[0minner_filtered_flat_args\u001b[0m\u001b[0;34m)\u001b[0m\u001b[0;34m:\u001b[0m\u001b[0;34m\u001b[0m\u001b[0;34m\u001b[0m\u001b[0m\n",
            "\u001b[0;32m/usr/local/lib/python3.7/dist-packages/tensorflow/python/eager/function.py\u001b[0m in \u001b[0;36m_call_flat\u001b[0;34m(self, args, captured_inputs, cancellation_manager)\u001b[0m\n\u001b[1;32m   1959\u001b[0m       \u001b[0;31m# No tape is watching; skip to running the function.\u001b[0m\u001b[0;34m\u001b[0m\u001b[0;34m\u001b[0m\u001b[0;34m\u001b[0m\u001b[0m\n\u001b[1;32m   1960\u001b[0m       return self._build_call_outputs(self._inference_function.call(\n\u001b[0;32m-> 1961\u001b[0;31m           ctx, args, cancellation_manager=cancellation_manager))\n\u001b[0m\u001b[1;32m   1962\u001b[0m     forward_backward = self._select_forward_and_backward_functions(\n\u001b[1;32m   1963\u001b[0m         \u001b[0margs\u001b[0m\u001b[0;34m,\u001b[0m\u001b[0;34m\u001b[0m\u001b[0;34m\u001b[0m\u001b[0m\n",
            "\u001b[0;32m/usr/local/lib/python3.7/dist-packages/tensorflow/python/eager/function.py\u001b[0m in \u001b[0;36mcall\u001b[0;34m(self, ctx, args, cancellation_manager)\u001b[0m\n\u001b[1;32m    594\u001b[0m               \u001b[0minputs\u001b[0m\u001b[0;34m=\u001b[0m\u001b[0margs\u001b[0m\u001b[0;34m,\u001b[0m\u001b[0;34m\u001b[0m\u001b[0;34m\u001b[0m\u001b[0m\n\u001b[1;32m    595\u001b[0m               \u001b[0mattrs\u001b[0m\u001b[0;34m=\u001b[0m\u001b[0mattrs\u001b[0m\u001b[0;34m,\u001b[0m\u001b[0;34m\u001b[0m\u001b[0;34m\u001b[0m\u001b[0m\n\u001b[0;32m--> 596\u001b[0;31m               ctx=ctx)\n\u001b[0m\u001b[1;32m    597\u001b[0m         \u001b[0;32melse\u001b[0m\u001b[0;34m:\u001b[0m\u001b[0;34m\u001b[0m\u001b[0;34m\u001b[0m\u001b[0m\n\u001b[1;32m    598\u001b[0m           outputs = execute.execute_with_cancellation(\n",
            "\u001b[0;32m/usr/local/lib/python3.7/dist-packages/tensorflow/python/eager/execute.py\u001b[0m in \u001b[0;36mquick_execute\u001b[0;34m(op_name, num_outputs, inputs, attrs, ctx, name)\u001b[0m\n\u001b[1;32m     58\u001b[0m     \u001b[0mctx\u001b[0m\u001b[0;34m.\u001b[0m\u001b[0mensure_initialized\u001b[0m\u001b[0;34m(\u001b[0m\u001b[0;34m)\u001b[0m\u001b[0;34m\u001b[0m\u001b[0;34m\u001b[0m\u001b[0m\n\u001b[1;32m     59\u001b[0m     tensors = pywrap_tfe.TFE_Py_Execute(ctx._handle, device_name, op_name,\n\u001b[0;32m---> 60\u001b[0;31m                                         inputs, attrs, num_outputs)\n\u001b[0m\u001b[1;32m     61\u001b[0m   \u001b[0;32mexcept\u001b[0m \u001b[0mcore\u001b[0m\u001b[0;34m.\u001b[0m\u001b[0m_NotOkStatusException\u001b[0m \u001b[0;32mas\u001b[0m \u001b[0me\u001b[0m\u001b[0;34m:\u001b[0m\u001b[0;34m\u001b[0m\u001b[0;34m\u001b[0m\u001b[0m\n\u001b[1;32m     62\u001b[0m     \u001b[0;32mif\u001b[0m \u001b[0mname\u001b[0m \u001b[0;32mis\u001b[0m \u001b[0;32mnot\u001b[0m \u001b[0;32mNone\u001b[0m\u001b[0;34m:\u001b[0m\u001b[0;34m\u001b[0m\u001b[0;34m\u001b[0m\u001b[0m\n",
            "\u001b[0;31mInvalidArgumentError\u001b[0m: 2 root error(s) found.\n  (0) Invalid argument:  indices[29,7] = 11673 is not in [0, 10339)\n\t [[node sequential_7/embedding_7/embedding_lookup (defined at <ipython-input-57-54a6404ad88b>:24) ]]\n  (1) Invalid argument:  indices[29,7] = 11673 is not in [0, 10339)\n\t [[node sequential_7/embedding_7/embedding_lookup (defined at <ipython-input-57-54a6404ad88b>:24) ]]\n\t [[sequential_7/embedding_7/embedding_lookup/_12]]\n0 successful operations.\n0 derived errors ignored. [Op:__inference_test_function_16863]\n\nErrors may have originated from an input operation.\nInput Source operations connected to node sequential_7/embedding_7/embedding_lookup:\n sequential_7/embedding_7/embedding_lookup/16688 (defined at /usr/lib/python3.7/contextlib.py:112)\n\nInput Source operations connected to node sequential_7/embedding_7/embedding_lookup:\n sequential_7/embedding_7/embedding_lookup/16688 (defined at /usr/lib/python3.7/contextlib.py:112)\n\nFunction call stack:\ntest_function -> test_function\n"
          ]
        }
      ]
    },
    {
      "cell_type": "code",
      "source": [
        "print(pad_rev_test.shape)\n",
        "print(pad_rev_train.shape)"
      ],
      "metadata": {
        "colab": {
          "base_uri": "https://localhost:8080/"
        },
        "id": "BkD5LGR8w_xF",
        "outputId": "db26edbf-d2de-48dd-f429-4702558354bb"
      },
      "execution_count": 48,
      "outputs": [
        {
          "output_type": "stream",
          "name": "stdout",
          "text": [
            "(4078, 1464)\n",
            "(8068, 1464)\n"
          ]
        }
      ]
    },
    {
      "cell_type": "code",
      "source": [
        "model.summary()\n",
        "print(pad_rev_test)"
      ],
      "metadata": {
        "id": "r-FbxJHQVqe4"
      },
      "execution_count": null,
      "outputs": []
    },
    {
      "cell_type": "code",
      "source": [
        "pred_y = model.predict(pad_rev_test)\n",
        "pred_y = np.argmax(pred_y, axis=1)\n",
        "# y_test=np.argmax(y_test, axis=1)\n",
        "print(metrics.classification_report(test_y, pred_y))\n",
        "\n",
        "conf_mat = confusion_matrix(test_y, pred_y)\n",
        "print(conf_mat)"
      ],
      "metadata": {
        "colab": {
          "base_uri": "https://localhost:8080/",
          "height": 692
        },
        "id": "tHB9SVT5O4On",
        "outputId": "b973a29a-fd12-4f4f-f098-b983af3f19be"
      },
      "execution_count": 31,
      "outputs": [
        {
          "output_type": "error",
          "ename": "InvalidArgumentError",
          "evalue": "ignored",
          "traceback": [
            "\u001b[0;31m---------------------------------------------------------------------------\u001b[0m",
            "\u001b[0;31mInvalidArgumentError\u001b[0m                      Traceback (most recent call last)",
            "\u001b[0;32m<ipython-input-31-86e18a3fbbbd>\u001b[0m in \u001b[0;36m<module>\u001b[0;34m()\u001b[0m\n\u001b[0;32m----> 1\u001b[0;31m \u001b[0mpred_y\u001b[0m \u001b[0;34m=\u001b[0m \u001b[0mmodel\u001b[0m\u001b[0;34m.\u001b[0m\u001b[0mpredict\u001b[0m\u001b[0;34m(\u001b[0m\u001b[0mpad_rev_test\u001b[0m\u001b[0;34m)\u001b[0m\u001b[0;34m\u001b[0m\u001b[0;34m\u001b[0m\u001b[0m\n\u001b[0m\u001b[1;32m      2\u001b[0m \u001b[0mpred_y\u001b[0m \u001b[0;34m=\u001b[0m \u001b[0mnp\u001b[0m\u001b[0;34m.\u001b[0m\u001b[0margmax\u001b[0m\u001b[0;34m(\u001b[0m\u001b[0mpred_y\u001b[0m\u001b[0;34m,\u001b[0m \u001b[0maxis\u001b[0m\u001b[0;34m=\u001b[0m\u001b[0;36m1\u001b[0m\u001b[0;34m)\u001b[0m\u001b[0;34m\u001b[0m\u001b[0;34m\u001b[0m\u001b[0m\n\u001b[1;32m      3\u001b[0m \u001b[0;31m# y_test=np.argmax(y_test, axis=1)\u001b[0m\u001b[0;34m\u001b[0m\u001b[0;34m\u001b[0m\u001b[0;34m\u001b[0m\u001b[0m\n\u001b[1;32m      4\u001b[0m \u001b[0mprint\u001b[0m\u001b[0;34m(\u001b[0m\u001b[0mmetrics\u001b[0m\u001b[0;34m.\u001b[0m\u001b[0mclassification_report\u001b[0m\u001b[0;34m(\u001b[0m\u001b[0mtest_y\u001b[0m\u001b[0;34m,\u001b[0m \u001b[0mpred_y\u001b[0m\u001b[0;34m)\u001b[0m\u001b[0;34m)\u001b[0m\u001b[0;34m\u001b[0m\u001b[0;34m\u001b[0m\u001b[0m\n\u001b[1;32m      5\u001b[0m \u001b[0;34m\u001b[0m\u001b[0m\n",
            "\u001b[0;32m/usr/local/lib/python3.7/dist-packages/tensorflow/python/keras/engine/training.py\u001b[0m in \u001b[0;36mpredict\u001b[0;34m(self, x, batch_size, verbose, steps, callbacks, max_queue_size, workers, use_multiprocessing)\u001b[0m\n\u001b[1;32m   1725\u001b[0m           \u001b[0;32mfor\u001b[0m \u001b[0mstep\u001b[0m \u001b[0;32min\u001b[0m \u001b[0mdata_handler\u001b[0m\u001b[0;34m.\u001b[0m\u001b[0msteps\u001b[0m\u001b[0;34m(\u001b[0m\u001b[0;34m)\u001b[0m\u001b[0;34m:\u001b[0m\u001b[0;34m\u001b[0m\u001b[0;34m\u001b[0m\u001b[0m\n\u001b[1;32m   1726\u001b[0m             \u001b[0mcallbacks\u001b[0m\u001b[0;34m.\u001b[0m\u001b[0mon_predict_batch_begin\u001b[0m\u001b[0;34m(\u001b[0m\u001b[0mstep\u001b[0m\u001b[0;34m)\u001b[0m\u001b[0;34m\u001b[0m\u001b[0;34m\u001b[0m\u001b[0m\n\u001b[0;32m-> 1727\u001b[0;31m             \u001b[0mtmp_batch_outputs\u001b[0m \u001b[0;34m=\u001b[0m \u001b[0mself\u001b[0m\u001b[0;34m.\u001b[0m\u001b[0mpredict_function\u001b[0m\u001b[0;34m(\u001b[0m\u001b[0miterator\u001b[0m\u001b[0;34m)\u001b[0m\u001b[0;34m\u001b[0m\u001b[0;34m\u001b[0m\u001b[0m\n\u001b[0m\u001b[1;32m   1728\u001b[0m             \u001b[0;32mif\u001b[0m \u001b[0mdata_handler\u001b[0m\u001b[0;34m.\u001b[0m\u001b[0mshould_sync\u001b[0m\u001b[0;34m:\u001b[0m\u001b[0;34m\u001b[0m\u001b[0;34m\u001b[0m\u001b[0m\n\u001b[1;32m   1729\u001b[0m               \u001b[0mcontext\u001b[0m\u001b[0;34m.\u001b[0m\u001b[0masync_wait\u001b[0m\u001b[0;34m(\u001b[0m\u001b[0;34m)\u001b[0m\u001b[0;34m\u001b[0m\u001b[0;34m\u001b[0m\u001b[0m\n",
            "\u001b[0;32m/usr/local/lib/python3.7/dist-packages/tensorflow/python/eager/def_function.py\u001b[0m in \u001b[0;36m__call__\u001b[0;34m(self, *args, **kwds)\u001b[0m\n\u001b[1;32m    887\u001b[0m \u001b[0;34m\u001b[0m\u001b[0m\n\u001b[1;32m    888\u001b[0m       \u001b[0;32mwith\u001b[0m \u001b[0mOptionalXlaContext\u001b[0m\u001b[0;34m(\u001b[0m\u001b[0mself\u001b[0m\u001b[0;34m.\u001b[0m\u001b[0m_jit_compile\u001b[0m\u001b[0;34m)\u001b[0m\u001b[0;34m:\u001b[0m\u001b[0;34m\u001b[0m\u001b[0;34m\u001b[0m\u001b[0m\n\u001b[0;32m--> 889\u001b[0;31m         \u001b[0mresult\u001b[0m \u001b[0;34m=\u001b[0m \u001b[0mself\u001b[0m\u001b[0;34m.\u001b[0m\u001b[0m_call\u001b[0m\u001b[0;34m(\u001b[0m\u001b[0;34m*\u001b[0m\u001b[0margs\u001b[0m\u001b[0;34m,\u001b[0m \u001b[0;34m**\u001b[0m\u001b[0mkwds\u001b[0m\u001b[0;34m)\u001b[0m\u001b[0;34m\u001b[0m\u001b[0;34m\u001b[0m\u001b[0m\n\u001b[0m\u001b[1;32m    890\u001b[0m \u001b[0;34m\u001b[0m\u001b[0m\n\u001b[1;32m    891\u001b[0m       \u001b[0mnew_tracing_count\u001b[0m \u001b[0;34m=\u001b[0m \u001b[0mself\u001b[0m\u001b[0;34m.\u001b[0m\u001b[0mexperimental_get_tracing_count\u001b[0m\u001b[0;34m(\u001b[0m\u001b[0;34m)\u001b[0m\u001b[0;34m\u001b[0m\u001b[0;34m\u001b[0m\u001b[0m\n",
            "\u001b[0;32m/usr/local/lib/python3.7/dist-packages/tensorflow/python/eager/def_function.py\u001b[0m in \u001b[0;36m_call\u001b[0;34m(self, *args, **kwds)\u001b[0m\n\u001b[1;32m    922\u001b[0m       \u001b[0;31m# In this case we have not created variables on the first call. So we can\u001b[0m\u001b[0;34m\u001b[0m\u001b[0;34m\u001b[0m\u001b[0;34m\u001b[0m\u001b[0m\n\u001b[1;32m    923\u001b[0m       \u001b[0;31m# run the first trace but we should fail if variables are created.\u001b[0m\u001b[0;34m\u001b[0m\u001b[0;34m\u001b[0m\u001b[0;34m\u001b[0m\u001b[0m\n\u001b[0;32m--> 924\u001b[0;31m       \u001b[0mresults\u001b[0m \u001b[0;34m=\u001b[0m \u001b[0mself\u001b[0m\u001b[0;34m.\u001b[0m\u001b[0m_stateful_fn\u001b[0m\u001b[0;34m(\u001b[0m\u001b[0;34m*\u001b[0m\u001b[0margs\u001b[0m\u001b[0;34m,\u001b[0m \u001b[0;34m**\u001b[0m\u001b[0mkwds\u001b[0m\u001b[0;34m)\u001b[0m\u001b[0;34m\u001b[0m\u001b[0;34m\u001b[0m\u001b[0m\n\u001b[0m\u001b[1;32m    925\u001b[0m       \u001b[0;32mif\u001b[0m \u001b[0mself\u001b[0m\u001b[0;34m.\u001b[0m\u001b[0m_created_variables\u001b[0m\u001b[0;34m:\u001b[0m\u001b[0;34m\u001b[0m\u001b[0;34m\u001b[0m\u001b[0m\n\u001b[1;32m    926\u001b[0m         raise ValueError(\"Creating variables on a non-first call to a function\"\n",
            "\u001b[0;32m/usr/local/lib/python3.7/dist-packages/tensorflow/python/eager/function.py\u001b[0m in \u001b[0;36m__call__\u001b[0;34m(self, *args, **kwargs)\u001b[0m\n\u001b[1;32m   3022\u001b[0m        filtered_flat_args) = self._maybe_define_function(args, kwargs)\n\u001b[1;32m   3023\u001b[0m     return graph_function._call_flat(\n\u001b[0;32m-> 3024\u001b[0;31m         filtered_flat_args, captured_inputs=graph_function.captured_inputs)  # pylint: disable=protected-access\n\u001b[0m\u001b[1;32m   3025\u001b[0m \u001b[0;34m\u001b[0m\u001b[0m\n\u001b[1;32m   3026\u001b[0m   \u001b[0;34m@\u001b[0m\u001b[0mproperty\u001b[0m\u001b[0;34m\u001b[0m\u001b[0;34m\u001b[0m\u001b[0m\n",
            "\u001b[0;32m/usr/local/lib/python3.7/dist-packages/tensorflow/python/eager/function.py\u001b[0m in \u001b[0;36m_call_flat\u001b[0;34m(self, args, captured_inputs, cancellation_manager)\u001b[0m\n\u001b[1;32m   1959\u001b[0m       \u001b[0;31m# No tape is watching; skip to running the function.\u001b[0m\u001b[0;34m\u001b[0m\u001b[0;34m\u001b[0m\u001b[0;34m\u001b[0m\u001b[0m\n\u001b[1;32m   1960\u001b[0m       return self._build_call_outputs(self._inference_function.call(\n\u001b[0;32m-> 1961\u001b[0;31m           ctx, args, cancellation_manager=cancellation_manager))\n\u001b[0m\u001b[1;32m   1962\u001b[0m     forward_backward = self._select_forward_and_backward_functions(\n\u001b[1;32m   1963\u001b[0m         \u001b[0margs\u001b[0m\u001b[0;34m,\u001b[0m\u001b[0;34m\u001b[0m\u001b[0;34m\u001b[0m\u001b[0m\n",
            "\u001b[0;32m/usr/local/lib/python3.7/dist-packages/tensorflow/python/eager/function.py\u001b[0m in \u001b[0;36mcall\u001b[0;34m(self, ctx, args, cancellation_manager)\u001b[0m\n\u001b[1;32m    594\u001b[0m               \u001b[0minputs\u001b[0m\u001b[0;34m=\u001b[0m\u001b[0margs\u001b[0m\u001b[0;34m,\u001b[0m\u001b[0;34m\u001b[0m\u001b[0;34m\u001b[0m\u001b[0m\n\u001b[1;32m    595\u001b[0m               \u001b[0mattrs\u001b[0m\u001b[0;34m=\u001b[0m\u001b[0mattrs\u001b[0m\u001b[0;34m,\u001b[0m\u001b[0;34m\u001b[0m\u001b[0;34m\u001b[0m\u001b[0m\n\u001b[0;32m--> 596\u001b[0;31m               ctx=ctx)\n\u001b[0m\u001b[1;32m    597\u001b[0m         \u001b[0;32melse\u001b[0m\u001b[0;34m:\u001b[0m\u001b[0;34m\u001b[0m\u001b[0;34m\u001b[0m\u001b[0m\n\u001b[1;32m    598\u001b[0m           outputs = execute.execute_with_cancellation(\n",
            "\u001b[0;32m/usr/local/lib/python3.7/dist-packages/tensorflow/python/eager/execute.py\u001b[0m in \u001b[0;36mquick_execute\u001b[0;34m(op_name, num_outputs, inputs, attrs, ctx, name)\u001b[0m\n\u001b[1;32m     58\u001b[0m     \u001b[0mctx\u001b[0m\u001b[0;34m.\u001b[0m\u001b[0mensure_initialized\u001b[0m\u001b[0;34m(\u001b[0m\u001b[0;34m)\u001b[0m\u001b[0;34m\u001b[0m\u001b[0;34m\u001b[0m\u001b[0m\n\u001b[1;32m     59\u001b[0m     tensors = pywrap_tfe.TFE_Py_Execute(ctx._handle, device_name, op_name,\n\u001b[0;32m---> 60\u001b[0;31m                                         inputs, attrs, num_outputs)\n\u001b[0m\u001b[1;32m     61\u001b[0m   \u001b[0;32mexcept\u001b[0m \u001b[0mcore\u001b[0m\u001b[0;34m.\u001b[0m\u001b[0m_NotOkStatusException\u001b[0m \u001b[0;32mas\u001b[0m \u001b[0me\u001b[0m\u001b[0;34m:\u001b[0m\u001b[0;34m\u001b[0m\u001b[0;34m\u001b[0m\u001b[0m\n\u001b[1;32m     62\u001b[0m     \u001b[0;32mif\u001b[0m \u001b[0mname\u001b[0m \u001b[0;32mis\u001b[0m \u001b[0;32mnot\u001b[0m \u001b[0;32mNone\u001b[0m\u001b[0;34m:\u001b[0m\u001b[0;34m\u001b[0m\u001b[0;34m\u001b[0m\u001b[0m\n",
            "\u001b[0;31mInvalidArgumentError\u001b[0m: 2 root error(s) found.\n  (0) Invalid argument:  indices[13,24] = 10338 is not in [0, 10338)\n\t [[node sequential_3/embedding_3/embedding_lookup (defined at <ipython-input-31-86e18a3fbbbd>:1) ]]\n  (1) Invalid argument:  indices[13,24] = 10338 is not in [0, 10338)\n\t [[node sequential_3/embedding_3/embedding_lookup (defined at <ipython-input-31-86e18a3fbbbd>:1) ]]\n\t [[sequential_3/embedding_3/embedding_lookup/_6]]\n0 successful operations.\n0 derived errors ignored. [Op:__inference_predict_function_9847]\n\nErrors may have originated from an input operation.\nInput Source operations connected to node sequential_3/embedding_3/embedding_lookup:\n sequential_3/embedding_3/embedding_lookup/9822 (defined at /usr/lib/python3.7/contextlib.py:112)\n\nInput Source operations connected to node sequential_3/embedding_3/embedding_lookup:\n sequential_3/embedding_3/embedding_lookup/9822 (defined at /usr/lib/python3.7/contextlib.py:112)\n\nFunction call stack:\npredict_function -> predict_function\n"
          ]
        }
      ]
    },
    {
      "cell_type": "markdown",
      "source": [
        "# BERT"
      ],
      "metadata": {
        "id": "fccPGYtiwkXd"
      }
    },
    {
      "cell_type": "code",
      "source": [
        "import tensorflow_hub as hub\n",
        "from tensorflow.keras.utils import to_categorical\n",
        "from sklearn import preprocessing\n",
        "from sklearn.model_selection import train_test_split\n",
        "\n",
        "label = preprocessing.LabelEncoder()\n",
        "print(train_y)\n",
        "y = label.fit_transform(train_y)\n",
        "train_y = to_categorical(y)\n"
      ],
      "metadata": {
        "id": "R5DKJFFSIIrc",
        "colab": {
          "base_uri": "https://localhost:8080/"
        },
        "outputId": "46774c99-2013-40d3-f8aa-edb59e6c67ba"
      },
      "execution_count": 58,
      "outputs": [
        {
          "output_type": "stream",
          "name": "stdout",
          "text": [
            "7571    2\n",
            "4247    0\n",
            "3656    0\n",
            "2788    0\n",
            "3385    0\n",
            "       ..\n",
            "7984    2\n",
            "3602    0\n",
            "6255    1\n",
            "88      0\n",
            "1114    0\n",
            "Name: category_id, Length: 8068, dtype: int64\n"
          ]
        }
      ]
    },
    {
      "cell_type": "code",
      "source": [
        "!wget --quiet https://raw.githubusercontent.com/tensorflow/models/master/official/nlp/bert/tokenization.py\n",
        "!pip install bert-tensorflow==1.0.1"
      ],
      "metadata": {
        "id": "9bbsKNsRyXR5"
      },
      "execution_count": null,
      "outputs": []
    },
    {
      "cell_type": "code",
      "source": [
        "!pip install tensorflow==2.5.0"
      ],
      "metadata": {
        "id": "wgjnYJMLd87D"
      },
      "execution_count": null,
      "outputs": []
    },
    {
      "cell_type": "code",
      "source": [
        "!pip install transformers"
      ],
      "metadata": {
        "id": "hdP6B25p2WM6"
      },
      "execution_count": null,
      "outputs": []
    },
    {
      "cell_type": "code",
      "source": [
        "!pip install sentence_transformers\n",
        "from sentence_transformers import SentenceTransformer"
      ],
      "metadata": {
        "id": "OOyweo6YFNFC"
      },
      "execution_count": null,
      "outputs": []
    },
    {
      "cell_type": "code",
      "source": [
        "from keras.initializers import GlorotNormal\n",
        "from tensorflow.keras.callbacks import EarlyStopping"
      ],
      "metadata": {
        "id": "gr1JKdNUF9yM"
      },
      "execution_count": 13,
      "outputs": []
    },
    {
      "cell_type": "code",
      "source": [
        "model = SentenceTransformer(\"all-mpnet-base-v2\")"
      ],
      "metadata": {
        "id": "cz2XLEkFgy2x"
      },
      "execution_count": null,
      "outputs": []
    },
    {
      "cell_type": "code",
      "source": [
        "def sentence(texts):\n",
        "  model = SentenceTransformer(\"roberta-large-nli-stsb-mean-tokens\")\n",
        "  embeddings = model.encode(texts)\n",
        "\n",
        "  return embeddings"
      ],
      "metadata": {
        "id": "IBHUesv8FbMC"
      },
      "execution_count": 17,
      "outputs": []
    },
    {
      "cell_type": "code",
      "source": [
        "TRANSFORMER_BATCH=128\n",
        "\n",
        "def count_embedd (df):\n",
        "    idx_chunk=list(df.columns).index('Column2')\n",
        "    embedd_lst = []\n",
        "    for index in range (0, len(df), TRANSFORMER_BATCH):\n",
        "        embedds = model.encode(df.iloc[index:index+TRANSFORMER_BATCH, idx_chunk].values, show_progress_bar=False)\n",
        "        embedd_lst.append(embedds)\n",
        "    return np.concatenate(embedd_lst)"
      ],
      "metadata": {
        "id": "HIZk6hn2aiu_"
      },
      "execution_count": 170,
      "outputs": []
    },
    {
      "cell_type": "code",
      "source": [
        "train_emb = count_embedd(dataset)"
      ],
      "metadata": {
        "id": "jyItDXSMgnog"
      },
      "execution_count": 171,
      "outputs": []
    },
    {
      "cell_type": "code",
      "source": [
        "print(train_emb)"
      ],
      "metadata": {
        "id": "o1zUXGVThas_"
      },
      "execution_count": null,
      "outputs": []
    },
    {
      "cell_type": "code",
      "source": [
        "test_emb = count_embedd(testset)"
      ],
      "metadata": {
        "id": "-4U0N7MSg4Wr"
      },
      "execution_count": 173,
      "outputs": []
    },
    {
      "cell_type": "code",
      "source": [
        "train_embedd = sentence(train_x)"
      ],
      "metadata": {
        "id": "8y-_vJR1am20"
      },
      "execution_count": null,
      "outputs": []
    },
    {
      "cell_type": "code",
      "source": [
        "print(train_embedd)"
      ],
      "metadata": {
        "id": "86ASmI0qhoPs"
      },
      "execution_count": null,
      "outputs": []
    },
    {
      "cell_type": "code",
      "source": [
        "test_embedd = sentence(test_x)"
      ],
      "metadata": {
        "id": "mFE9lHiTao5Q"
      },
      "execution_count": 21,
      "outputs": []
    },
    {
      "cell_type": "code",
      "source": [
        "X_train = np.array(train_emb)\n",
        "X_test = np.array(test_emb)"
      ],
      "metadata": {
        "id": "CCkIOGTrbp2s"
      },
      "execution_count": 174,
      "outputs": []
    },
    {
      "cell_type": "code",
      "source": [
        "y_train=keras.utils.to_categorical(train_y)"
      ],
      "metadata": {
        "id": "tf8ht-tgb_n_"
      },
      "execution_count": 23,
      "outputs": []
    },
    {
      "cell_type": "code",
      "source": [
        ""
      ],
      "metadata": {
        "id": "Pjy_duSWstkm"
      },
      "execution_count": null,
      "outputs": []
    },
    {
      "cell_type": "code",
      "source": [
        "KERAS_VALIDATION_SPLIT=0.05\n",
        "KERAS_EPOCHS=30\n",
        "KERAS_BATCH_SIZE=32\n",
        "\n",
        "class_weight = {0: 1.,\n",
        "                1: 3.,\n",
        "                2: 5.}\n",
        "\n",
        "# Create and train Keras model\n",
        "n_features=X_train.shape[1]\n",
        "n_labels = y_train.shape[1]\n",
        "\n",
        "model = tf.keras.models.Sequential([\n",
        "  tf.keras.layers.Dense(2048, input_dim=n_features),\n",
        "  tf.keras.layers.LeakyReLU(alpha=0.01),\n",
        "  tf.keras.layers.Dropout(0.2),\n",
        "  tf.keras.layers.Dense(64),\n",
        "  tf.keras.layers.LeakyReLU(alpha=0.01),\n",
        "  tf.keras.layers.Dropout(0.2),\n",
        "  tf.keras.layers.Dense(3, activation='softmax')\n",
        "])\n",
        "\n",
        "LR=5e-5\n",
        "adam = keras.optimizers.Adam(learning_rate=LR, beta_1=0.9, beta_2=0.999, amsgrad=False)\n",
        "\n",
        "model.compile(optimizer=adam, \n",
        "              loss=\"categorical_crossentropy\",\n",
        "              metrics=[f1])\n",
        "\n",
        "model.fit(X_train, y_train, epochs=KERAS_EPOCHS, batch_size=KERAS_BATCH_SIZE, validation_split=KERAS_VALIDATION_SPLIT)"
      ],
      "metadata": {
        "colab": {
          "base_uri": "https://localhost:8080/"
        },
        "id": "HiKl8FLGb3ju",
        "outputId": "3d1d0cf3-8928-4863-ed1e-545268a8fb3c"
      },
      "execution_count": 189,
      "outputs": [
        {
          "output_type": "stream",
          "name": "stdout",
          "text": [
            "Epoch 1/30\n",
            "240/240 [==============================] - 2s 6ms/step - loss: 0.8005 - f1: 0.2384 - val_loss: 0.7895 - val_f1: 0.2675\n",
            "Epoch 2/30\n",
            "240/240 [==============================] - 1s 5ms/step - loss: 0.6763 - f1: 0.3294 - val_loss: 0.7254 - val_f1: 0.3972\n",
            "Epoch 3/30\n",
            "240/240 [==============================] - 1s 4ms/step - loss: 0.6145 - f1: 0.4559 - val_loss: 0.6835 - val_f1: 0.4668\n",
            "Epoch 4/30\n",
            "240/240 [==============================] - 1s 5ms/step - loss: 0.5697 - f1: 0.5330 - val_loss: 0.6324 - val_f1: 0.5585\n",
            "Epoch 5/30\n",
            "240/240 [==============================] - 1s 3ms/step - loss: 0.5286 - f1: 0.5822 - val_loss: 0.5952 - val_f1: 0.5955\n",
            "Epoch 6/30\n",
            "240/240 [==============================] - 1s 3ms/step - loss: 0.4928 - f1: 0.6140 - val_loss: 0.5602 - val_f1: 0.6399\n",
            "Epoch 7/30\n",
            "240/240 [==============================] - 1s 3ms/step - loss: 0.4625 - f1: 0.6518 - val_loss: 0.5248 - val_f1: 0.6455\n",
            "Epoch 8/30\n",
            "240/240 [==============================] - 1s 3ms/step - loss: 0.4284 - f1: 0.6760 - val_loss: 0.4968 - val_f1: 0.6704\n",
            "Epoch 9/30\n",
            "240/240 [==============================] - 1s 3ms/step - loss: 0.4029 - f1: 0.7205 - val_loss: 0.4758 - val_f1: 0.6904\n",
            "Epoch 10/30\n",
            "240/240 [==============================] - 1s 3ms/step - loss: 0.3747 - f1: 0.7401 - val_loss: 0.4480 - val_f1: 0.7217\n",
            "Epoch 11/30\n",
            "240/240 [==============================] - 1s 3ms/step - loss: 0.3494 - f1: 0.7631 - val_loss: 0.4359 - val_f1: 0.7322\n",
            "Epoch 12/30\n",
            "240/240 [==============================] - 1s 3ms/step - loss: 0.3264 - f1: 0.7877 - val_loss: 0.4034 - val_f1: 0.7883\n",
            "Epoch 13/30\n",
            "240/240 [==============================] - 1s 3ms/step - loss: 0.3046 - f1: 0.7968 - val_loss: 0.3869 - val_f1: 0.8294\n",
            "Epoch 14/30\n",
            "240/240 [==============================] - 1s 3ms/step - loss: 0.2864 - f1: 0.8151 - val_loss: 0.3660 - val_f1: 0.8156\n",
            "Epoch 15/30\n",
            "240/240 [==============================] - 1s 3ms/step - loss: 0.2679 - f1: 0.8344 - val_loss: 0.3715 - val_f1: 0.8348\n",
            "Epoch 16/30\n",
            "240/240 [==============================] - 1s 3ms/step - loss: 0.2510 - f1: 0.8411 - val_loss: 0.3531 - val_f1: 0.8355\n",
            "Epoch 17/30\n",
            "240/240 [==============================] - 1s 3ms/step - loss: 0.2356 - f1: 0.8439 - val_loss: 0.3377 - val_f1: 0.8470\n",
            "Epoch 18/30\n",
            "240/240 [==============================] - 1s 3ms/step - loss: 0.2237 - f1: 0.8565 - val_loss: 0.3387 - val_f1: 0.8587\n",
            "Epoch 19/30\n",
            "240/240 [==============================] - 1s 3ms/step - loss: 0.2100 - f1: 0.8719 - val_loss: 0.3204 - val_f1: 0.8548\n",
            "Epoch 20/30\n",
            "240/240 [==============================] - 1s 3ms/step - loss: 0.1977 - f1: 0.8726 - val_loss: 0.3260 - val_f1: 0.8581\n",
            "Epoch 21/30\n",
            "240/240 [==============================] - 1s 3ms/step - loss: 0.1864 - f1: 0.8802 - val_loss: 0.3123 - val_f1: 0.8690\n",
            "Epoch 22/30\n",
            "240/240 [==============================] - 1s 3ms/step - loss: 0.1740 - f1: 0.8923 - val_loss: 0.3016 - val_f1: 0.8661\n",
            "Epoch 23/30\n",
            "240/240 [==============================] - 1s 3ms/step - loss: 0.1654 - f1: 0.8987 - val_loss: 0.3141 - val_f1: 0.8743\n",
            "Epoch 24/30\n",
            "240/240 [==============================] - 1s 3ms/step - loss: 0.1558 - f1: 0.9042 - val_loss: 0.3071 - val_f1: 0.8624\n",
            "Epoch 25/30\n",
            "240/240 [==============================] - 1s 3ms/step - loss: 0.1461 - f1: 0.8993 - val_loss: 0.3208 - val_f1: 0.8626\n",
            "Epoch 26/30\n",
            "240/240 [==============================] - 1s 3ms/step - loss: 0.1400 - f1: 0.9054 - val_loss: 0.3082 - val_f1: 0.8649\n",
            "Epoch 27/30\n",
            "240/240 [==============================] - 1s 3ms/step - loss: 0.1315 - f1: 0.9169 - val_loss: 0.3145 - val_f1: 0.8652\n",
            "Epoch 28/30\n",
            "240/240 [==============================] - 1s 3ms/step - loss: 0.1261 - f1: 0.9165 - val_loss: 0.3283 - val_f1: 0.8662\n",
            "Epoch 29/30\n",
            "240/240 [==============================] - 1s 3ms/step - loss: 0.1167 - f1: 0.9262 - val_loss: 0.3188 - val_f1: 0.8625\n",
            "Epoch 30/30\n",
            "240/240 [==============================] - 1s 3ms/step - loss: 0.1106 - f1: 0.9326 - val_loss: 0.3040 - val_f1: 0.8618\n"
          ]
        },
        {
          "output_type": "execute_result",
          "data": {
            "text/plain": [
              "<keras.callbacks.History at 0x7f82386ee3d0>"
            ]
          },
          "metadata": {},
          "execution_count": 189
        }
      ]
    },
    {
      "cell_type": "code",
      "source": [
        "y_preds = model.predict(X_test)\n",
        "predicted = np.argmax(y_preds,axis=1) \n",
        "accuracy = metrics.accuracy_score(test_y, predicted)\n",
        "print(\"Accuracy:\",  round(accuracy,4))\n",
        "print(metrics.classification_report(test_y, predicted,digits=4))\n",
        "\n",
        "conf_mat = confusion_matrix(test_y, predicted)\n",
        "print(conf_mat)"
      ],
      "metadata": {
        "colab": {
          "base_uri": "https://localhost:8080/"
        },
        "id": "vyOx-aVqcLte",
        "outputId": "218839b9-26df-48de-891d-2cacaa0a4e6d"
      },
      "execution_count": 188,
      "outputs": [
        {
          "output_type": "stream",
          "name": "stdout",
          "text": [
            "Accuracy: 0.5559\n",
            "              precision    recall  f1-score   support\n",
            "\n",
            "           0     0.6069    0.6975    0.6490      2198\n",
            "           1     0.5582    0.3719    0.4464      1522\n",
            "           2     0.3123    0.4693    0.3750       358\n",
            "\n",
            "    accuracy                         0.5559      4078\n",
            "   macro avg     0.4924    0.5129    0.4901      4078\n",
            "weighted avg     0.5628    0.5559    0.5493      4078\n",
            "\n",
            "[[1533  418  247]\n",
            " [ 833  566  123]\n",
            " [ 160   30  168]]\n"
          ]
        }
      ]
    },
    {
      "cell_type": "code",
      "source": [
        "class_weight = {0: 1.,\n",
        "                1: 3.,\n",
        "                2: 4.}\n",
        "\n",
        "model = LogisticRegression(multi_class='multinomial', solver='newton-cg')\n",
        "# cv = RepeatedStratifiedKFold(n_splits = 10, n_repeats=3)\n",
        "# model = model.fit(train_x_tf, train_y)\n",
        "# y_pred = model.predict(test_x_tf)\n",
        "\n",
        "# model = model.fit(res_tfx, res_tfy)\n",
        "# y_pred = model.predict(test_x_tf)\n",
        "train_y = dataset['category_id']\n",
        "model = model.fit(train_emb, train_y)\n",
        "y_pred = model.predict(test_emb)\n",
        "print(\"Regression Classifier Model Accuracy:\", accuracy_score(test_y, y_pred))\n",
        "print(metrics.classification_report(test_y, y_pred))\n",
        "\n",
        "conf_mat = confusion_matrix(test_y, y_pred)\n",
        "print(conf_mat)"
      ],
      "metadata": {
        "colab": {
          "base_uri": "https://localhost:8080/"
        },
        "id": "Rxk_ujrucHjg",
        "outputId": "315feabb-c928-4f94-f48a-ccfe89aa86a3"
      },
      "execution_count": 80,
      "outputs": [
        {
          "output_type": "stream",
          "name": "stdout",
          "text": [
            "Regression Classifier Model Accuracy: 0.49632172633643945\n",
            "              precision    recall  f1-score   support\n",
            "\n",
            "           0       0.59      0.59      0.59      2198\n",
            "           1       0.49      0.39      0.44      1522\n",
            "           2       0.21      0.39      0.27       358\n",
            "\n",
            "    accuracy                           0.50      4078\n",
            "   macro avg       0.43      0.46      0.43      4078\n",
            "weighted avg       0.52      0.50      0.50      4078\n",
            "\n",
            "[[1290  555  353]\n",
            " [ 747  593  182]\n",
            " [ 161   56  141]]\n"
          ]
        },
        {
          "output_type": "stream",
          "name": "stderr",
          "text": [
            "/usr/local/lib/python3.7/dist-packages/scipy/optimize/linesearch.py:314: LineSearchWarning: The line search algorithm did not converge\n",
            "  warn('The line search algorithm did not converge', LineSearchWarning)\n",
            "/usr/local/lib/python3.7/dist-packages/sklearn/utils/optimize.py:203: UserWarning: Line Search failed\n",
            "  warnings.warn(\"Line Search failed\")\n"
          ]
        }
      ]
    },
    {
      "cell_type": "code",
      "source": [
        "def rn(embeddings, train_y):\n",
        "  input_size = len(embeddings[0])\n",
        "  model = Sequential()\n",
        "  initializer = GlorotNormal()\n",
        "\n",
        "  model.add(Dense(96, input_shape=(input_size,), activation='relu', kernel_initializer=initializer))\n",
        "  model.add(Dropout(0.5))\n",
        "  model.add(Dense(3, activation=\"softmax\", kernel_initializer=initializer))\n",
        "\n",
        "  model.compile(loss=f1_loss, metrics=[f1], optimizer=\"adam\")\n",
        "\n",
        "  model.summary()\n",
        "  return model"
      ],
      "metadata": {
        "id": "_qW6eTe0FrYM"
      },
      "execution_count": 15,
      "outputs": []
    },
    {
      "cell_type": "code",
      "source": [
        "def bert_sent_transf_train(model, y_train, X_train):\n",
        "  dic_y_mapping = {n:label for n,label in \n",
        "                 enumerate(np.unique(y_train))}\n",
        "  # Y=keras.utils.to_categorical(y_train)\n",
        "  \n",
        "  X_train, X_valid, y_train, y_valid = train_test_split(X_train, y_train)\n",
        "  # y_train = np.asarray(y_train).astype('float32').reshape((-1,1))\n",
        "  # y_valid = np.asarray(y_valid).astype('float32').reshape((-1,1))\n",
        "  #y_valid = tf.one_hot(y_valid, depth=2).numpy()\n",
        "  #print(y_valid)\n",
        "  early_stopping = EarlyStopping(\n",
        "      min_delta=0.001, # minimium amount of change to count as an improvement\n",
        "      patience=10, # how many epochs to wait before stopping\n",
        "      restore_best_weights=True,\n",
        "  )\n",
        "  ## train\n",
        "  # training = model.fit(x=X_train, y=y_train, batch_size=32, \n",
        "  #                     epochs=30, shuffle=True, verbose=1, callbacks=[early_stopping],\n",
        "  #                     validation_data=(X_valid, y_valid))\n",
        "  #train with weights\n",
        "  class_weight={\n",
        "      0:1.,\n",
        "      1:3.,\n",
        "      2:6,\n",
        "  }\n",
        "  training = model.fit(x=X_train, y=y_train, batch_size=32, \n",
        "                      epochs=30, shuffle=True, verbose=1, callbacks=[early_stopping],\n",
        "                      validation_data=(X_valid, y_valid), class_weight = class_weight )\n",
        "  ## plot loss and accuracy\n",
        "  metrics = [k for k in training.history.keys() if (\"loss\" not in k) and (\"val\" not in k)]\n",
        "  fig, ax = plt.subplots(nrows=1, ncols=2, sharey=True)\n",
        "  ax[0].set(title=\"Training\")\n",
        "  ax11 = ax[0].twinx()\n",
        "  ax[0].plot(training.history['loss'], color='black')\n",
        "  ax[0].set_xlabel('Epochs')\n",
        "  ax[0].set_ylabel('Loss', color='black')\n",
        "  for metric in metrics:\n",
        "      ax11.plot(training.history[metric], label=metric)\n",
        "  ax11.set_ylabel(\"Score\", color='steelblue')\n",
        "  ax11.legend()\n",
        "  ax[1].set(title=\"Validation\")\n",
        "  ax22 = ax[1].twinx()\n",
        "  ax[1].plot(training.history['val_loss'], color='black')\n",
        "  ax[1].set_xlabel('Epochs')\n",
        "  ax[1].set_ylabel('Loss', color='black')\n",
        "  for metric in metrics:\n",
        "      ax22.plot(training.history['val_'+metric], label=metric)\n",
        "  ax22.set_ylabel(\"Score\", color=\"steelblue\")\n",
        "  plt.show()\n",
        "  return model, dic_y_mapping\n",
        "\n",
        "def bert_sent_transf_test(model, X_test, dic_y_mapping, y_test):\n",
        "  predicted_prob = model.predict(X_test)\n",
        "  predicted = np.argmax(predicted_prob,axis=1) \n",
        "  accuracy = metrics.accuracy_score(y_test, predicted)\n",
        "  print(\"Accuracy:\",  round(accuracy,2))\n",
        "  print(metrics.classification_report(y_test, predicted))"
      ],
      "metadata": {
        "id": "SfyzInMNGeKr"
      },
      "execution_count": 16,
      "outputs": []
    },
    {
      "cell_type": "code",
      "source": [
        "embeddings = sentence(train_x)"
      ],
      "metadata": {
        "id": "2sRalBzgHas9"
      },
      "execution_count": 66,
      "outputs": []
    },
    {
      "cell_type": "code",
      "source": [
        "bert_model = rn(embeddings, train_y)"
      ],
      "metadata": {
        "id": "XO8gOFpkHpiU",
        "colab": {
          "base_uri": "https://localhost:8080/"
        },
        "outputId": "4c6d715a-1f94-454d-edb4-6066d4c9fc83"
      },
      "execution_count": 67,
      "outputs": [
        {
          "output_type": "stream",
          "name": "stdout",
          "text": [
            "Model: \"sequential_8\"\n",
            "_________________________________________________________________\n",
            "Layer (type)                 Output Shape              Param #   \n",
            "=================================================================\n",
            "dense_16 (Dense)             (None, 96)                73824     \n",
            "_________________________________________________________________\n",
            "dropout_8 (Dropout)          (None, 96)                0         \n",
            "_________________________________________________________________\n",
            "dense_17 (Dense)             (None, 3)                 291       \n",
            "=================================================================\n",
            "Total params: 74,115\n",
            "Trainable params: 74,115\n",
            "Non-trainable params: 0\n",
            "_________________________________________________________________\n"
          ]
        }
      ]
    },
    {
      "cell_type": "code",
      "source": [
        "trained_bert, dicmapping = bert_sent_transf_train(bert_model,train_y, embeddings)"
      ],
      "metadata": {
        "colab": {
          "base_uri": "https://localhost:8080/",
          "height": 677
        },
        "id": "Hxg5oNr7H87r",
        "outputId": "e950dab0-915e-4d36-8644-a28af18ce55b"
      },
      "execution_count": 68,
      "outputs": [
        {
          "output_type": "stream",
          "name": "stdout",
          "text": [
            "Epoch 1/30\n",
            "190/190 [==============================] - 1s 5ms/step - loss: 1.2996 - f1: 0.2468 - val_loss: 0.6735 - val_f1: 0.2729\n",
            "Epoch 2/30\n",
            "190/190 [==============================] - 1s 4ms/step - loss: 1.2834 - f1: 0.2672 - val_loss: 0.6756 - val_f1: 0.2510\n",
            "Epoch 3/30\n",
            "190/190 [==============================] - 1s 3ms/step - loss: 1.2725 - f1: 0.2697 - val_loss: 0.6751 - val_f1: 0.2741\n",
            "Epoch 4/30\n",
            "190/190 [==============================] - 1s 4ms/step - loss: 1.2606 - f1: 0.2962 - val_loss: 0.6751 - val_f1: 0.2779\n",
            "Epoch 5/30\n",
            "190/190 [==============================] - 1s 4ms/step - loss: 1.2432 - f1: 0.3235 - val_loss: 0.6755 - val_f1: 0.2840\n",
            "Epoch 6/30\n",
            "190/190 [==============================] - 1s 4ms/step - loss: 1.2366 - f1: 0.3362 - val_loss: 0.6769 - val_f1: 0.2915\n",
            "Epoch 7/30\n",
            "190/190 [==============================] - 1s 4ms/step - loss: 1.2150 - f1: 0.3606 - val_loss: 0.6761 - val_f1: 0.2998\n",
            "Epoch 8/30\n",
            "190/190 [==============================] - 1s 4ms/step - loss: 1.2118 - f1: 0.3695 - val_loss: 0.6774 - val_f1: 0.2986\n",
            "Epoch 9/30\n",
            "190/190 [==============================] - 1s 4ms/step - loss: 1.2039 - f1: 0.3737 - val_loss: 0.6797 - val_f1: 0.3025\n",
            "Epoch 10/30\n",
            "190/190 [==============================] - 1s 4ms/step - loss: 1.1897 - f1: 0.3849 - val_loss: 0.6779 - val_f1: 0.3032\n",
            "Epoch 11/30\n",
            "190/190 [==============================] - 1s 4ms/step - loss: 1.1866 - f1: 0.3851 - val_loss: 0.6779 - val_f1: 0.3054\n"
          ]
        },
        {
          "output_type": "display_data",
          "data": {
            "text/plain": [
              "<Figure size 432x288 with 4 Axes>"
            ],
            "image/png": "[encoded data removed]"
          },
          "metadata": {
            "needs_background": "light"
          }
        }
      ]
    },
    {
      "cell_type": "code",
      "source": [
        "embeddings2 = sentence(test_x)"
      ],
      "metadata": {
        "id": "DG7GPqjhJAqq"
      },
      "execution_count": 69,
      "outputs": []
    },
    {
      "cell_type": "code",
      "source": [
        "bert_sent_transf_test(trained_bert, embeddings2, dicmapping, test_y)"
      ],
      "metadata": {
        "id": "LXhz_P3uJJJ_",
        "colab": {
          "base_uri": "https://localhost:8080/"
        },
        "outputId": "a5c6d5cd-70c6-4725-e0db-76aa8fc07905"
      },
      "execution_count": null,
      "outputs": [
        {
          "output_type": "stream",
          "name": "stderr",
          "text": [
            "/usr/local/lib/python3.7/dist-packages/tensorflow/python/data/ops/structured_function.py:265: UserWarning: Even though the `tf.config.experimental_run_functions_eagerly` option is set, this option does not apply to tf.data functions. To force eager execution of tf.data functions, please use `tf.data.experimental.enable_debug_mode()`.\n",
            "  \"Even though the `tf.config.experimental_run_functions_eagerly` \"\n"
          ]
        },
        {
          "output_type": "stream",
          "name": "stdout",
          "text": [
            "Accuracy: 0.49\n",
            "              precision    recall  f1-score   support\n",
            "\n",
            "           0       0.55      0.79      0.65      2198\n",
            "           1       0.39      0.17      0.24      1522\n",
            "           2       0.07      0.04      0.05       358\n",
            "\n",
            "    accuracy                           0.49      4078\n",
            "   macro avg       0.34      0.34      0.31      4078\n",
            "weighted avg       0.45      0.49      0.44      4078\n",
            "\n"
          ]
        }
      ]
    }
  ],
  "metadata": {
    "kernelspec": {
      "display_name": "Python 3",
      "language": "python",
      "name": "python3"
    },
    "language_info": {
      "codemirror_mode": {
        "name": "ipython",
        "version": 2
      },
      "file_extension": ".py",
      "mimetype": "text/x-python",
      "name": "python",
      "nbconvert_exporter": "python",
      "pygments_lexer": "ipython2",
      "version": "2.7.6"
    },
    "colab": {
      "name": "code.ipynb",
      "provenance": [],
      "collapsed_sections": [
        "IMHPbMBI4VTQ",
        "7MBdfMwk4bR_",
        "2abJM4PN4yyY",
        "5_goD7gM5Bnj",
        "KsTCPqZS4jzh",
        "cWK3dbEM45Fj",
        "Kz3D-3YoDine",
        "lgvLSOR8gsOn",
        "tUiQnNNV5Frg"
      ],
      "toc_visible": true,
      "include_colab_link": true
    },
    "accelerator": "GPU"
  },
  "nbformat": 4,
  "nbformat_minor": 0
}